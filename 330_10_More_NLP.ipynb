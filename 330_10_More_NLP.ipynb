{
 "cells": [
  {
   "cell_type": "markdown",
   "metadata": {},
   "source": [
    "# SI 330: Data Manipulation \n",
    "## 10 - More Natural Language Processing\n",
    "\n",
    "### Dr. Chris Teplovs, School of Information, University of Michigan\n",
    "<small><a rel=\"license\" href=\"http://creativecommons.org/licenses/by-nc-sa/4.0/\"><img alt=\"Creative Commons License\" style=\"border-width:0\" src=\"https://i.creativecommons.org/l/by-nc-sa/4.0/88x31.png\" /></a>This work is licensed under a <a rel=\"license\" href=\"http://creativecommons.org/licenses/by-nc-sa/4.0/\">Creative Commons Attribution-NonCommercial-ShareAlike 4.0 International License</a>."
   ]
  },
  {
   "cell_type": "markdown",
   "metadata": {
    "toc-hr-collapsed": false
   },
   "source": [
    "# Why learn NLP?\n",
    "- Natural language = human language\n",
    "- We use language to learn about the world\n",
    "- How machines understand human langauge?\n",
    "- How can we quantify the meaning of language?"
   ]
  },
  {
   "cell_type": "markdown",
   "metadata": {},
   "source": [
    "## Applications?\n",
    "- Probabily any service that uses text as information\n",
    "- Search engine, SNS\n",
    "    - What's the document about?\n",
    "    - How do you determine the similarity?\n",
    "- Virtual assistants: Alexa, Google Assistant, Cortana, etc. \n",
    "    - Understand the semantic information from your speech from parsed text\n",
    "- Biology, genetics\n",
    "    - Genetic information / DNA sequence as text\n",
    "    - Draw networks of proteins/molecules from vast amount of scientific papers "
   ]
  },
  {
   "cell_type": "markdown",
   "metadata": {},
   "source": [
    "# Outline for today\n",
    "- ```spaCy```\n",
    "    - Cleaning the data\n",
    "    - Extracting linguistic features\n",
    "- ```Word2Vec``` (if we have time)\n",
    "    - Vector representation of words\n",
    "    - Word similarities\n",
    "    - Vector algebra for semantics"
   ]
  },
  {
   "cell_type": "code",
   "execution_count": 3,
   "metadata": {},
   "outputs": [],
   "source": [
    "import pandas as pd\n",
    "import numpy as np\n",
    "import re\n",
    "import seaborn as sns\n",
    "import matplotlib.pyplot as plt\n",
    "%matplotlib inline"
   ]
  },
  {
   "cell_type": "markdown",
   "metadata": {},
   "source": [
    "# spaCy?"
   ]
  },
  {
   "cell_type": "markdown",
   "metadata": {},
   "source": [
    "- Fast, and extensible NLP package for Python\n",
    "- <https://spacy.io/>"
   ]
  },
  {
   "cell_type": "code",
   "execution_count": 2,
   "metadata": {},
   "outputs": [
    {
     "name": "stdout",
     "output_type": "stream",
     "text": [
      "Collecting package metadata: ...working... done\n",
      "Solving environment: ...working... done\n",
      "\n",
      "# All requested packages already installed.\n",
      "\n"
     ]
    }
   ],
   "source": [
    "# !conda install -y spacy"
   ]
  },
  {
   "cell_type": "code",
   "execution_count": 4,
   "metadata": {},
   "outputs": [],
   "source": [
    "import spacy"
   ]
  },
  {
   "cell_type": "code",
   "execution_count": 4,
   "metadata": {},
   "outputs": [
    {
     "name": "stdout",
     "output_type": "stream",
     "text": [
      "Requirement already satisfied: en_core_web_sm==2.0.0 from https://github.com/explosion/spacy-models/releases/download/en_core_web_sm-2.0.0/en_core_web_sm-2.0.0.tar.gz#egg=en_core_web_sm==2.0.0 in c:\\users\\jodiy\\anaconda3.1\\lib\\site-packages (2.0.0)\n",
      "\n",
      "    Error: Couldn't link model to 'en'\n",
      "    Creating a symlink in spacy/data failed. Make sure you have the required\n",
      "    permissions and try re-running the command as admin, or use a\n",
      "    virtualenv. You can still import the model as a module and call its\n",
      "    load() method, or create the symlink manually.\n",
      "\n",
      "    C:\\Users\\jodiy\\Anaconda3.1\\lib\\site-packages\\en_core_web_sm -->\n",
      "    C:\\Users\\jodiy\\Anaconda3.1\\lib\\site-packages\\spacy\\data\\en\n",
      "\n",
      "\n",
      "    Creating a shortcut link for 'en' didn't work (maybe you don't have\n",
      "    admin permissions?), but you can still load the model via its full\n",
      "    package name: nlp = spacy.load('{name}')\n",
      "    Download successful but linking failed\n",
      "\n"
     ]
    },
    {
     "name": "stderr",
     "output_type": "stream",
     "text": [
      "You are using pip version 10.0.1, however version 19.0.2 is available.\n",
      "You should consider upgrading via the 'python -m pip install --upgrade pip' command.\n"
     ]
    }
   ],
   "source": [
    "!python -m spacy download en"
   ]
  },
  {
   "cell_type": "code",
   "execution_count": 6,
   "metadata": {},
   "outputs": [],
   "source": [
    "# loading up the language model: English\n",
    " "
   ]
  },
  {
   "cell_type": "markdown",
   "metadata": {},
   "source": [
    "# 0. Data cleaning"
   ]
  },
  {
   "cell_type": "code",
   "execution_count": 7,
   "metadata": {},
   "outputs": [],
   "source": [
    "some_text = \"\"\"Letter 1\n",
    "\n",
    "_To Mrs. Saville, England._\n",
    "\n",
    "\n",
    "St. Petersburgh, Dec. 11th, 17—.\n",
    "\n",
    "\n",
    "You will rejoice to hear that no disaster has accompanied the\n",
    "commencement of an enterprise which you have regarded with such evil\n",
    "forebodings.  I arrived here yesterday, and my first task is to assure\n",
    "my dear sister of my welfare and increasing confidence in the success\n",
    "of my undertaking.\n",
    "\n",
    "I am already far north of London, and as I walk in the streets of\n",
    "Petersburgh, I feel a cold northern breeze play upon my cheeks, which\n",
    "braces my nerves and fills me with delight.  Do you understand this\n",
    "feeling?  This breeze, which has travelled from the regions towards\n",
    "which I am advancing, gives me a foretaste of those icy climes.\n",
    "Inspirited by this wind of promise, my daydreams become more fervent\n",
    "and vivid.  I try in vain to be persuaded that the pole is the seat of\n",
    "frost and desolation; it ever presents itself to my imagination as the\n",
    "region of beauty and delight.  There, Margaret, the sun is for ever\n",
    "visible, its broad disk just skirting the horizon and diffusing a\n",
    "perpetual splendour.  There—for with your leave, my sister, I will put\n",
    "some trust in preceding navigators—there snow and frost are banished;\n",
    "and, sailing over a calm sea, we may be wafted to a land surpassing in\n",
    "wonders and in beauty every region hitherto discovered on the habitable\n",
    "globe.  Its productions and features may be without example, as the\n",
    "phenomena of the heavenly bodies undoubtedly are in those undiscovered\n",
    "solitudes.  What may not be expected in a country of eternal light?  I\n",
    "may there discover the wondrous power which attracts the needle and may\n",
    "regulate a thousand celestial observations that require only this\n",
    "voyage to render their seeming eccentricities consistent for ever.  I\n",
    "shall satiate my ardent curiosity with the sight of a part of the world\n",
    "never before visited, and may tread a land never before imprinted by\n",
    "the foot of man. These are my enticements, and they are sufficient to\n",
    "conquer all fear of danger or death and to induce me to commence this\n",
    "laborious voyage with the joy a child feels when he embarks in a little\n",
    "boat, with his holiday mates, on an expedition of discovery up his\n",
    "native river. But supposing all these conjectures to be false, you\n",
    "cannot contest the inestimable benefit which I shall confer on all\n",
    "mankind, to the last generation, by discovering a passage near the pole\n",
    "to those countries, to reach which at present so many months are\n",
    "requisite; or by ascertaining the secret of the magnet, which, if at\n",
    "all possible, can only be effected by an undertaking such as mine.\n",
    "\n",
    "These reflections have dispelled the agitation with which I began my\n",
    "letter, and I feel my heart glow with an enthusiasm which elevates me\n",
    "to heaven, for nothing contributes so much to tranquillise the mind as\n",
    "a steady purpose—a point on which the soul may fix its intellectual\n",
    "eye.  This expedition has been the favourite dream of my early years. I\n",
    "have read with ardour the accounts of the various voyages which have\n",
    "been made in the prospect of arriving at the North Pacific Ocean\n",
    "through the seas which surround the pole.  You may remember that a\n",
    "history of all the voyages made for purposes of discovery composed the\n",
    "whole of our good Uncle Thomas’ library.  My education was neglected,\n",
    "yet I was passionately fond of reading.  These volumes were my study\n",
    "day and night, and my familiarity with them increased that regret which\n",
    "I had felt, as a child, on learning that my father’s dying injunction\n",
    "had forbidden my uncle to allow me to embark in a seafaring life.\n",
    "\n",
    "These visions faded when I perused, for the first time, those poets\n",
    "whose effusions entranced my soul and lifted it to heaven.  I also\n",
    "became a poet and for one year lived in a paradise of my own creation;\n",
    "I imagined that I also might obtain a niche in the temple where the\n",
    "names of Homer and Shakespeare are consecrated.  You are well\n",
    "acquainted with my failure and how heavily I bore the disappointment.\n",
    "But just at that time I inherited the fortune of my cousin, and my\n",
    "thoughts were turned into the channel of their earlier bent.\n",
    "\n",
    "Six years have passed since I resolved on my present undertaking.  I\n",
    "can, even now, remember the hour from which I dedicated myself to this\n",
    "great enterprise.  I commenced by inuring my body to hardship.  I\n",
    "accompanied the whale-fishers on several expeditions to the North Sea;\n",
    "I voluntarily endured cold, famine, thirst, and want of sleep; I often\n",
    "worked harder than the common sailors during the day and devoted my\n",
    "nights to the study of mathematics, the theory of medicine, and those\n",
    "branches of physical science from which a naval adventurer might derive\n",
    "the greatest practical advantage.  Twice I actually hired myself as an\n",
    "under-mate in a Greenland whaler, and acquitted myself to admiration. I\n",
    "must own I felt a little proud when my captain offered me the second\n",
    "dignity in the vessel and entreated me to remain with the greatest\n",
    "earnestness, so valuable did he consider my services.\n",
    "\n",
    "And now, dear Margaret, do I not deserve to accomplish some great purpose?\n",
    "My life might have been passed in ease and luxury, but I preferred glory to\n",
    "every enticement that wealth placed in my path. Oh, that some encouraging\n",
    "voice would answer in the affirmative! My courage and my resolution is\n",
    "firm; but my hopes fluctuate, and my spirits are often depressed. I am\n",
    "about to proceed on a long and difficult voyage, the emergencies of which\n",
    "will demand all my fortitude: I am required not only to raise the spirits\n",
    "of others, but sometimes to sustain my own, when theirs are failing.\n",
    "\n",
    "This is the most favourable period for travelling in Russia.  They fly\n",
    "quickly over the snow in their sledges; the motion is pleasant, and, in\n",
    "my opinion, far more agreeable than that of an English stagecoach.  The\n",
    "cold is not excessive, if you are wrapped in furs—a dress which I have\n",
    "already adopted, for there is a great difference between walking the\n",
    "deck and remaining seated motionless for hours, when no exercise\n",
    "prevents the blood from actually freezing in your veins.  I have no\n",
    "ambition to lose my life on the post-road between St. Petersburgh and\n",
    "Archangel.\n",
    "\n",
    "I shall depart for the latter town in a fortnight or three weeks; and my\n",
    "intention is to hire a ship there, which can easily be done by paying the\n",
    "insurance for the owner, and to engage as many sailors as I think necessary\n",
    "among those who are accustomed to the whale-fishing. I do not intend to\n",
    "sail until the month of June; and when shall I return? Ah, dear sister, how\n",
    "can I answer this question? If I succeed, many, many months, perhaps years,\n",
    "will pass before you and I may meet. If I fail, you will see me again soon,\n",
    "or never.\n",
    "\n",
    "Farewell, my dear, excellent Margaret. Heaven shower down blessings on you,\n",
    "and save me, that I may again and again testify my gratitude for all your\n",
    "love and kindness.\n",
    "\n",
    "Your affectionate brother,\n",
    "\n",
    "R. Walton\"\"\""
   ]
  },
  {
   "cell_type": "markdown",
   "metadata": {},
   "source": [
    "### Section goal: calculate the frequency of each word\n",
    "- See which words are more frequent.\n",
    "- Generate more meaningful summary for the above paragraph."
   ]
  },
  {
   "cell_type": "markdown",
   "metadata": {},
   "source": [
    "## 0-1. lowering the case"
   ]
  },
  {
   "cell_type": "code",
   "execution_count": 8,
   "metadata": {},
   "outputs": [
    {
     "data": {
      "text/plain": [
       "str"
      ]
     },
     "execution_count": 8,
     "metadata": {},
     "output_type": "execute_result"
    }
   ],
   "source": [
    "type(some_text)"
   ]
  },
  {
   "cell_type": "code",
   "execution_count": 9,
   "metadata": {},
   "outputs": [
    {
     "data": {
      "text/plain": [
       "'Letter 1\\n\\n_To Mrs. Saville, England._\\n\\n\\nSt. Petersburgh, Dec. 11th, 17—.\\n\\n\\nYou will rejoice to hear that no disaster has accompanied the\\ncommencement of an enterprise which you have regarded with such evil\\nforebodings.  I arrived here yesterday, and my first task is to assure\\nmy dear sister of my welfare and increasing confidence in the success\\nof my undertaking.\\n\\nI am already far north of London, and as I walk in the streets of\\nPetersburgh, I feel a cold northern breeze play upon my cheeks, which\\nbraces my nerves and fills me with delight.  Do you understand this\\nfeeling?  This breeze, which has travelled from the regions towards\\nwhich I am advancing, gives me a foretaste of those icy climes.\\nInspirited by this wind of promise, my daydreams become more fervent\\nand vivid.  I try in vain to be persuaded that the pole is the seat of\\nfrost and desolation; it ever presents itself to my imagination as the\\nregion of beauty and delight.  There, Margaret, the sun is for ever\\nvisible, its broad disk just skirting the horizon and diffusing a\\nperpetual splendour.  There—for with your leave, my sister, I will put\\nsome trust in preceding navigators—there snow and frost are banished;\\nand, sailing over a calm sea, we may be wafted to a land surpassing in\\nwonders and in beauty every region hitherto discovered on the habitable\\nglobe.  Its productions and features may be without example, as the\\nphenomena of the heavenly bodies undoubtedly are in those undiscovered\\nsolitudes.  What may not be expected in a country of eternal light?  I\\nmay there discover the wondrous power which attracts the needle and may\\nregulate a thousand celestial observations that require only this\\nvoyage to render their seeming eccentricities consistent for ever.  I\\nshall satiate my ardent curiosity with the sight of a part of the world\\nnever before visited, and may tread a land never before imprinted by\\nthe foot of man. These are my enticements, and they are sufficient to\\nconquer all fear of danger or death and to induce me to commence this\\nlaborious voyage with the joy a child feels when he embarks in a little\\nboat, with his holiday mates, on an expedition of discovery up his\\nnative river. But supposing all these conjectures to be false, you\\ncannot contest the inestimable benefit which I shall confer on all\\nmankind, to the last generation, by discovering a passage near the pole\\nto those countries, to reach which at present so many months are\\nrequisite; or by ascertaining the secret of the magnet, which, if at\\nall possible, can only be effected by an undertaking such as mine.\\n\\nThese reflections have dispelled the agitation with which I began my\\nletter, and I feel my heart glow with an enthusiasm which elevates me\\nto heaven, for nothing contributes so much to tranquillise the mind as\\na steady purpose—a point on which the soul may fix its intellectual\\neye.  This expedition has been the favourite dream of my early years. I\\nhave read with ardour the accounts of the various voyages which have\\nbeen made in the prospect of arriving at the North Pacific Ocean\\nthrough the seas which surround the pole.  You may remember that a\\nhistory of all the voyages made for purposes of discovery composed the\\nwhole of our good Uncle Thomas’ library.  My education was neglected,\\nyet I was passionately fond of reading.  These volumes were my study\\nday and night, and my familiarity with them increased that regret which\\nI had felt, as a child, on learning that my father’s dying injunction\\nhad forbidden my uncle to allow me to embark in a seafaring life.\\n\\nThese visions faded when I perused, for the first time, those poets\\nwhose effusions entranced my soul and lifted it to heaven.  I also\\nbecame a poet and for one year lived in a paradise of my own creation;\\nI imagined that I also might obtain a niche in the temple where the\\nnames of Homer and Shakespeare are consecrated.  You are well\\nacquainted with my failure and how heavily I bore the disappointment.\\nBut just at that time I inherited the fortune of my cousin, and my\\nthoughts were turned into the channel of their earlier bent.\\n\\nSix years have passed since I resolved on my present undertaking.  I\\ncan, even now, remember the hour from which I dedicated myself to this\\ngreat enterprise.  I commenced by inuring my body to hardship.  I\\naccompanied the whale-fishers on several expeditions to the North Sea;\\nI voluntarily endured cold, famine, thirst, and want of sleep; I often\\nworked harder than the common sailors during the day and devoted my\\nnights to the study of mathematics, the theory of medicine, and those\\nbranches of physical science from which a naval adventurer might derive\\nthe greatest practical advantage.  Twice I actually hired myself as an\\nunder-mate in a Greenland whaler, and acquitted myself to admiration. I\\nmust own I felt a little proud when my captain offered me the second\\ndignity in the vessel and entreated me to remain with the greatest\\nearnestness, so valuable did he consider my services.\\n\\nAnd now, dear Margaret, do I not deserve to accomplish some great purpose?\\nMy life might have been passed in ease and luxury, but I preferred glory to\\nevery enticement that wealth placed in my path. Oh, that some encouraging\\nvoice would answer in the affirmative! My courage and my resolution is\\nfirm; but my hopes fluctuate, and my spirits are often depressed. I am\\nabout to proceed on a long and difficult voyage, the emergencies of which\\nwill demand all my fortitude: I am required not only to raise the spirits\\nof others, but sometimes to sustain my own, when theirs are failing.\\n\\nThis is the most favourable period for travelling in Russia.  They fly\\nquickly over the snow in their sledges; the motion is pleasant, and, in\\nmy opinion, far more agreeable than that of an English stagecoach.  The\\ncold is not excessive, if you are wrapped in furs—a dress which I have\\nalready adopted, for there is a great difference between walking the\\ndeck and remaining seated motionless for hours, when no exercise\\nprevents the blood from actually freezing in your veins.  I have no\\nambition to lose my life on the post-road between St. Petersburgh and\\nArchangel.\\n\\nI shall depart for the latter town in a fortnight or three weeks; and my\\nintention is to hire a ship there, which can easily be done by paying the\\ninsurance for the owner, and to engage as many sailors as I think necessary\\namong those who are accustomed to the whale-fishing. I do not intend to\\nsail until the month of June; and when shall I return? Ah, dear sister, how\\ncan I answer this question? If I succeed, many, many months, perhaps years,\\nwill pass before you and I may meet. If I fail, you will see me again soon,\\nor never.\\n\\nFarewell, my dear, excellent Margaret. Heaven shower down blessings on you,\\nand save me, that I may again and again testify my gratitude for all your\\nlove and kindness.\\n\\nYour affectionate brother,\\n\\nR. Walton'"
      ]
     },
     "execution_count": 9,
     "metadata": {},
     "output_type": "execute_result"
    }
   ],
   "source": [
    "some_text"
   ]
  },
  {
   "cell_type": "code",
   "execution_count": 10,
   "metadata": {},
   "outputs": [],
   "source": [
    "some_text_lower = some_text.lower()"
   ]
  },
  {
   "cell_type": "code",
   "execution_count": 11,
   "metadata": {},
   "outputs": [
    {
     "data": {
      "text/plain": [
       "'letter 1\\n\\n_to mrs. saville, england._\\n\\n\\nst. petersburgh, dec. 11th, 17—.\\n\\n\\nyou will rejoice to hear that no disaster has accompanied the\\ncommencement of an enterprise which you have regarded with such evil\\nforebodings.  i arrived here yesterday, and my first task is to assure\\nmy dear sister of my welfare and increasing confidence in the success\\nof my undertaking.\\n\\ni am already far north of london, and as i walk in the streets of\\npetersburgh, i feel a cold northern breeze play upon my cheeks, which\\nbraces my nerves and fills me with delight.  do you understand this\\nfeeling?  this breeze, which has travelled from the regions towards\\nwhich i am advancing, gives me a foretaste of those icy climes.\\ninspirited by this wind of promise, my daydreams become more fervent\\nand vivid.  i try in vain to be persuaded that the pole is the seat of\\nfrost and desolation; it ever presents itself to my imagination as the\\nregion of beauty and delight.  there, margaret, the sun is for ever\\nvisible, its broad disk just skirting the horizon and diffusing a\\nperpetual splendour.  there—for with your leave, my sister, i will put\\nsome trust in preceding navigators—there snow and frost are banished;\\nand, sailing over a calm sea, we may be wafted to a land surpassing in\\nwonders and in beauty every region hitherto discovered on the habitable\\nglobe.  its productions and features may be without example, as the\\nphenomena of the heavenly bodies undoubtedly are in those undiscovered\\nsolitudes.  what may not be expected in a country of eternal light?  i\\nmay there discover the wondrous power which attracts the needle and may\\nregulate a thousand celestial observations that require only this\\nvoyage to render their seeming eccentricities consistent for ever.  i\\nshall satiate my ardent curiosity with the sight of a part of the world\\nnever before visited, and may tread a land never before imprinted by\\nthe foot of man. these are my enticements, and they are sufficient to\\nconquer all fear of danger or death and to induce me to commence this\\nlaborious voyage with the joy a child feels when he embarks in a little\\nboat, with his holiday mates, on an expedition of discovery up his\\nnative river. but supposing all these conjectures to be false, you\\ncannot contest the inestimable benefit which i shall confer on all\\nmankind, to the last generation, by discovering a passage near the pole\\nto those countries, to reach which at present so many months are\\nrequisite; or by ascertaining the secret of the magnet, which, if at\\nall possible, can only be effected by an undertaking such as mine.\\n\\nthese reflections have dispelled the agitation with which i began my\\nletter, and i feel my heart glow with an enthusiasm which elevates me\\nto heaven, for nothing contributes so much to tranquillise the mind as\\na steady purpose—a point on which the soul may fix its intellectual\\neye.  this expedition has been the favourite dream of my early years. i\\nhave read with ardour the accounts of the various voyages which have\\nbeen made in the prospect of arriving at the north pacific ocean\\nthrough the seas which surround the pole.  you may remember that a\\nhistory of all the voyages made for purposes of discovery composed the\\nwhole of our good uncle thomas’ library.  my education was neglected,\\nyet i was passionately fond of reading.  these volumes were my study\\nday and night, and my familiarity with them increased that regret which\\ni had felt, as a child, on learning that my father’s dying injunction\\nhad forbidden my uncle to allow me to embark in a seafaring life.\\n\\nthese visions faded when i perused, for the first time, those poets\\nwhose effusions entranced my soul and lifted it to heaven.  i also\\nbecame a poet and for one year lived in a paradise of my own creation;\\ni imagined that i also might obtain a niche in the temple where the\\nnames of homer and shakespeare are consecrated.  you are well\\nacquainted with my failure and how heavily i bore the disappointment.\\nbut just at that time i inherited the fortune of my cousin, and my\\nthoughts were turned into the channel of their earlier bent.\\n\\nsix years have passed since i resolved on my present undertaking.  i\\ncan, even now, remember the hour from which i dedicated myself to this\\ngreat enterprise.  i commenced by inuring my body to hardship.  i\\naccompanied the whale-fishers on several expeditions to the north sea;\\ni voluntarily endured cold, famine, thirst, and want of sleep; i often\\nworked harder than the common sailors during the day and devoted my\\nnights to the study of mathematics, the theory of medicine, and those\\nbranches of physical science from which a naval adventurer might derive\\nthe greatest practical advantage.  twice i actually hired myself as an\\nunder-mate in a greenland whaler, and acquitted myself to admiration. i\\nmust own i felt a little proud when my captain offered me the second\\ndignity in the vessel and entreated me to remain with the greatest\\nearnestness, so valuable did he consider my services.\\n\\nand now, dear margaret, do i not deserve to accomplish some great purpose?\\nmy life might have been passed in ease and luxury, but i preferred glory to\\nevery enticement that wealth placed in my path. oh, that some encouraging\\nvoice would answer in the affirmative! my courage and my resolution is\\nfirm; but my hopes fluctuate, and my spirits are often depressed. i am\\nabout to proceed on a long and difficult voyage, the emergencies of which\\nwill demand all my fortitude: i am required not only to raise the spirits\\nof others, but sometimes to sustain my own, when theirs are failing.\\n\\nthis is the most favourable period for travelling in russia.  they fly\\nquickly over the snow in their sledges; the motion is pleasant, and, in\\nmy opinion, far more agreeable than that of an english stagecoach.  the\\ncold is not excessive, if you are wrapped in furs—a dress which i have\\nalready adopted, for there is a great difference between walking the\\ndeck and remaining seated motionless for hours, when no exercise\\nprevents the blood from actually freezing in your veins.  i have no\\nambition to lose my life on the post-road between st. petersburgh and\\narchangel.\\n\\ni shall depart for the latter town in a fortnight or three weeks; and my\\nintention is to hire a ship there, which can easily be done by paying the\\ninsurance for the owner, and to engage as many sailors as i think necessary\\namong those who are accustomed to the whale-fishing. i do not intend to\\nsail until the month of june; and when shall i return? ah, dear sister, how\\ncan i answer this question? if i succeed, many, many months, perhaps years,\\nwill pass before you and i may meet. if i fail, you will see me again soon,\\nor never.\\n\\nfarewell, my dear, excellent margaret. heaven shower down blessings on you,\\nand save me, that i may again and again testify my gratitude for all your\\nlove and kindness.\\n\\nyour affectionate brother,\\n\\nr. walton'"
      ]
     },
     "execution_count": 11,
     "metadata": {},
     "output_type": "execute_result"
    }
   ],
   "source": [
    "some_text_lower"
   ]
  },
  {
   "cell_type": "markdown",
   "metadata": {
    "toc-hr-collapsed": false
   },
   "source": [
    "## 0-2. remove punctuations and special characters"
   ]
  },
  {
   "cell_type": "markdown",
   "metadata": {},
   "source": [
    "#### Alternatively, we can use regular expression to remove punctuations\n",
    "- So we don't have to list up all possible special characters that we want to remove\n",
    "- https://docs.python.org/3.4/library/re.html\n",
    "- https://en.wikipedia.org/wiki/Regular_expression"
   ]
  },
  {
   "cell_type": "markdown",
   "metadata": {},
   "source": [
    "### <font color=\"magenta\">Q1: Write a regular expression (regex) that will remove all punctuation from the above passage</font>"
   ]
  },
  {
   "cell_type": "code",
   "execution_count": 44,
   "metadata": {},
   "outputs": [],
   "source": [
    "import re\n",
    "some_text_lower_no_punct = re.sub(r'[^\\w\\s]|_+', ' ', some_text_lower)"
   ]
  },
  {
   "cell_type": "code",
   "execution_count": 13,
   "metadata": {},
   "outputs": [
    {
     "name": "stdout",
     "output_type": "stream",
     "text": [
      "letter 1\n",
      "\n",
      " to mrs  saville  england  \n",
      "\n",
      "\n",
      "st  petersburgh  dec  11th  17  \n",
      "\n",
      "\n",
      "you will rejoice to hear that no disaster has accompanied the\n",
      "commencement of an enterprise which you have regarded with such evil\n",
      "forebodings   i arrived here yesterday  and my first task is to assure\n",
      "my dear sister of my welfare and increasing confidence in the success\n",
      "of my undertaking \n",
      "\n",
      "i am already far north of london  and as i walk in the streets of\n",
      "petersburgh  i feel a cold northern breeze play upon my cheeks  which\n",
      "braces my nerves and fills me with delight   do you understand this\n",
      "feeling   this breeze  which has travelled from the regions towards\n",
      "which i am advancing  gives me a foretaste of those icy climes \n",
      "inspirited by this wind of promise  my daydreams become more fervent\n",
      "and vivid   i try in vain to be persuaded that the pole is the seat of\n",
      "frost and desolation  it ever presents itself to my imagination as the\n",
      "region of beauty and delight   there  margaret  the sun is for ever\n",
      "visible  its broad disk just skirting the horizon and diffusing a\n",
      "perpetual splendour   there for with your leave  my sister  i will put\n",
      "some trust in preceding navigators there snow and frost are banished \n",
      "and  sailing over a calm sea  we may be wafted to a land surpassing in\n",
      "wonders and in beauty every region hitherto discovered on the habitable\n",
      "globe   its productions and features may be without example  as the\n",
      "phenomena of the heavenly bodies undoubtedly are in those undiscovered\n",
      "solitudes   what may not be expected in a country of eternal light   i\n",
      "may there discover the wondrous power which attracts the needle and may\n",
      "regulate a thousand celestial observations that require only this\n",
      "voyage to render their seeming eccentricities consistent for ever   i\n",
      "shall satiate my ardent curiosity with the sight of a part of the world\n",
      "never before visited  and may tread a land never before imprinted by\n",
      "the foot of man  these are my enticements  and they are sufficient to\n",
      "conquer all fear of danger or death and to induce me to commence this\n",
      "laborious voyage with the joy a child feels when he embarks in a little\n",
      "boat  with his holiday mates  on an expedition of discovery up his\n",
      "native river  but supposing all these conjectures to be false  you\n",
      "cannot contest the inestimable benefit which i shall confer on all\n",
      "mankind  to the last generation  by discovering a passage near the pole\n",
      "to those countries  to reach which at present so many months are\n",
      "requisite  or by ascertaining the secret of the magnet  which  if at\n",
      "all possible  can only be effected by an undertaking such as mine \n",
      "\n",
      "these reflections have dispelled the agitation with which i began my\n",
      "letter  and i feel my heart glow with an enthusiasm which elevates me\n",
      "to heaven  for nothing contributes so much to tranquillise the mind as\n",
      "a steady purpose a point on which the soul may fix its intellectual\n",
      "eye   this expedition has been the favourite dream of my early years  i\n",
      "have read with ardour the accounts of the various voyages which have\n",
      "been made in the prospect of arriving at the north pacific ocean\n",
      "through the seas which surround the pole   you may remember that a\n",
      "history of all the voyages made for purposes of discovery composed the\n",
      "whole of our good uncle thomas  library   my education was neglected \n",
      "yet i was passionately fond of reading   these volumes were my study\n",
      "day and night  and my familiarity with them increased that regret which\n",
      "i had felt  as a child  on learning that my father s dying injunction\n",
      "had forbidden my uncle to allow me to embark in a seafaring life \n",
      "\n",
      "these visions faded when i perused  for the first time  those poets\n",
      "whose effusions entranced my soul and lifted it to heaven   i also\n",
      "became a poet and for one year lived in a paradise of my own creation \n",
      "i imagined that i also might obtain a niche in the temple where the\n",
      "names of homer and shakespeare are consecrated   you are well\n",
      "acquainted with my failure and how heavily i bore the disappointment \n",
      "but just at that time i inherited the fortune of my cousin  and my\n",
      "thoughts were turned into the channel of their earlier bent \n",
      "\n",
      "six years have passed since i resolved on my present undertaking   i\n",
      "can  even now  remember the hour from which i dedicated myself to this\n",
      "great enterprise   i commenced by inuring my body to hardship   i\n",
      "accompanied the whale fishers on several expeditions to the north sea \n",
      "i voluntarily endured cold  famine  thirst  and want of sleep  i often\n",
      "worked harder than the common sailors during the day and devoted my\n",
      "nights to the study of mathematics  the theory of medicine  and those\n",
      "branches of physical science from which a naval adventurer might derive\n",
      "the greatest practical advantage   twice i actually hired myself as an\n",
      "under mate in a greenland whaler  and acquitted myself to admiration  i\n",
      "must own i felt a little proud when my captain offered me the second\n",
      "dignity in the vessel and entreated me to remain with the greatest\n",
      "earnestness  so valuable did he consider my services \n",
      "\n",
      "and now  dear margaret  do i not deserve to accomplish some great purpose \n",
      "my life might have been passed in ease and luxury  but i preferred glory to\n",
      "every enticement that wealth placed in my path  oh  that some encouraging\n",
      "voice would answer in the affirmative  my courage and my resolution is\n",
      "firm  but my hopes fluctuate  and my spirits are often depressed  i am\n",
      "about to proceed on a long and difficult voyage  the emergencies of which\n",
      "will demand all my fortitude  i am required not only to raise the spirits\n",
      "of others  but sometimes to sustain my own  when theirs are failing \n",
      "\n",
      "this is the most favourable period for travelling in russia   they fly\n",
      "quickly over the snow in their sledges  the motion is pleasant  and  in\n",
      "my opinion  far more agreeable than that of an english stagecoach   the\n",
      "cold is not excessive  if you are wrapped in furs a dress which i have\n",
      "already adopted  for there is a great difference between walking the\n",
      "deck and remaining seated motionless for hours  when no exercise\n",
      "prevents the blood from actually freezing in your veins   i have no\n",
      "ambition to lose my life on the post road between st  petersburgh and\n",
      "archangel \n",
      "\n",
      "i shall depart for the latter town in a fortnight or three weeks  and my\n",
      "intention is to hire a ship there  which can easily be done by paying the\n",
      "insurance for the owner  and to engage as many sailors as i think necessary\n",
      "among those who are accustomed to the whale fishing  i do not intend to\n",
      "sail until the month of june  and when shall i return  ah  dear sister  how\n",
      "can i answer this question  if i succeed  many  many months  perhaps years \n",
      "will pass before you and i may meet  if i fail  you will see me again soon \n",
      "or never \n",
      "\n",
      "farewell  my dear  excellent margaret  heaven shower down blessings on you \n",
      "and save me  that i may again and again testify my gratitude for all your\n",
      "love and kindness \n",
      "\n",
      "your affectionate brother \n",
      "\n",
      "r  walton\n"
     ]
    }
   ],
   "source": [
    "print(some_text_lower_no_punct)"
   ]
  },
  {
   "cell_type": "markdown",
   "metadata": {},
   "source": [
    "- However, special character ```\\n``` (linebreak) still exists in both cases. Let's remove these additionally."
   ]
  },
  {
   "cell_type": "code",
   "execution_count": 14,
   "metadata": {},
   "outputs": [
    {
     "data": {
      "text/plain": [
       "'\\r\\n'"
      ]
     },
     "execution_count": 14,
     "metadata": {},
     "output_type": "execute_result"
    }
   ],
   "source": [
    "import os\n",
    "os.linesep"
   ]
  },
  {
   "cell_type": "code",
   "execution_count": 15,
   "metadata": {},
   "outputs": [
    {
     "name": "stdout",
     "output_type": "stream",
     "text": [
      "letter 1\n",
      "\n",
      " to mrs  saville  england  \n",
      "\n",
      "\n",
      "st  petersburgh  dec  11th  17  \n",
      "\n",
      "\n",
      "you will rejoice to hear that no disaster has accompanied the\n",
      "commencement of an enterprise which you have regarded with such evil\n",
      "forebodings   i arrived here yesterday  and my first task is to assure\n",
      "my dear sister of my welfare and increasing confidence in the success\n",
      "of my undertaking \n",
      "\n",
      "i am already far north of london  and as i walk in the streets of\n",
      "petersburgh  i feel a cold northern breeze play upon my cheeks  which\n",
      "braces my nerves and fills me with delight   do you understand this\n",
      "feeling   this breeze  which has travelled from the regions towards\n",
      "which i am advancing  gives me a foretaste of those icy climes \n",
      "inspirited by this wind of promise  my daydreams become more fervent\n",
      "and vivid   i try in vain to be persuaded that the pole is the seat of\n",
      "frost and desolation  it ever presents itself to my imagination as the\n",
      "region of beauty and delight   there  margaret  the sun is for ever\n",
      "visible  its broad disk just skirting the horizon and diffusing a\n",
      "perpetual splendour   there for with your leave  my sister  i will put\n",
      "some trust in preceding navigators there snow and frost are banished \n",
      "and  sailing over a calm sea  we may be wafted to a land surpassing in\n",
      "wonders and in beauty every region hitherto discovered on the habitable\n",
      "globe   its productions and features may be without example  as the\n",
      "phenomena of the heavenly bodies undoubtedly are in those undiscovered\n",
      "solitudes   what may not be expected in a country of eternal light   i\n",
      "may there discover the wondrous power which attracts the needle and may\n",
      "regulate a thousand celestial observations that require only this\n",
      "voyage to render their seeming eccentricities consistent for ever   i\n",
      "shall satiate my ardent curiosity with the sight of a part of the world\n",
      "never before visited  and may tread a land never before imprinted by\n",
      "the foot of man  these are my enticements  and they are sufficient to\n",
      "conquer all fear of danger or death and to induce me to commence this\n",
      "laborious voyage with the joy a child feels when he embarks in a little\n",
      "boat  with his holiday mates  on an expedition of discovery up his\n",
      "native river  but supposing all these conjectures to be false  you\n",
      "cannot contest the inestimable benefit which i shall confer on all\n",
      "mankind  to the last generation  by discovering a passage near the pole\n",
      "to those countries  to reach which at present so many months are\n",
      "requisite  or by ascertaining the secret of the magnet  which  if at\n",
      "all possible  can only be effected by an undertaking such as mine \n",
      "\n",
      "these reflections have dispelled the agitation with which i began my\n",
      "letter  and i feel my heart glow with an enthusiasm which elevates me\n",
      "to heaven  for nothing contributes so much to tranquillise the mind as\n",
      "a steady purpose a point on which the soul may fix its intellectual\n",
      "eye   this expedition has been the favourite dream of my early years  i\n",
      "have read with ardour the accounts of the various voyages which have\n",
      "been made in the prospect of arriving at the north pacific ocean\n",
      "through the seas which surround the pole   you may remember that a\n",
      "history of all the voyages made for purposes of discovery composed the\n",
      "whole of our good uncle thomas  library   my education was neglected \n",
      "yet i was passionately fond of reading   these volumes were my study\n",
      "day and night  and my familiarity with them increased that regret which\n",
      "i had felt  as a child  on learning that my father s dying injunction\n",
      "had forbidden my uncle to allow me to embark in a seafaring life \n",
      "\n",
      "these visions faded when i perused  for the first time  those poets\n",
      "whose effusions entranced my soul and lifted it to heaven   i also\n",
      "became a poet and for one year lived in a paradise of my own creation \n",
      "i imagined that i also might obtain a niche in the temple where the\n",
      "names of homer and shakespeare are consecrated   you are well\n",
      "acquainted with my failure and how heavily i bore the disappointment \n",
      "but just at that time i inherited the fortune of my cousin  and my\n",
      "thoughts were turned into the channel of their earlier bent \n",
      "\n",
      "six years have passed since i resolved on my present undertaking   i\n",
      "can  even now  remember the hour from which i dedicated myself to this\n",
      "great enterprise   i commenced by inuring my body to hardship   i\n",
      "accompanied the whale fishers on several expeditions to the north sea \n",
      "i voluntarily endured cold  famine  thirst  and want of sleep  i often\n",
      "worked harder than the common sailors during the day and devoted my\n",
      "nights to the study of mathematics  the theory of medicine  and those\n",
      "branches of physical science from which a naval adventurer might derive\n",
      "the greatest practical advantage   twice i actually hired myself as an\n",
      "under mate in a greenland whaler  and acquitted myself to admiration  i\n",
      "must own i felt a little proud when my captain offered me the second\n",
      "dignity in the vessel and entreated me to remain with the greatest\n",
      "earnestness  so valuable did he consider my services \n",
      "\n",
      "and now  dear margaret  do i not deserve to accomplish some great purpose \n",
      "my life might have been passed in ease and luxury  but i preferred glory to\n",
      "every enticement that wealth placed in my path  oh  that some encouraging\n",
      "voice would answer in the affirmative  my courage and my resolution is\n",
      "firm  but my hopes fluctuate  and my spirits are often depressed  i am\n",
      "about to proceed on a long and difficult voyage  the emergencies of which\n",
      "will demand all my fortitude  i am required not only to raise the spirits\n",
      "of others  but sometimes to sustain my own  when theirs are failing \n",
      "\n",
      "this is the most favourable period for travelling in russia   they fly\n",
      "quickly over the snow in their sledges  the motion is pleasant  and  in\n",
      "my opinion  far more agreeable than that of an english stagecoach   the\n",
      "cold is not excessive  if you are wrapped in furs a dress which i have\n",
      "already adopted  for there is a great difference between walking the\n",
      "deck and remaining seated motionless for hours  when no exercise\n",
      "prevents the blood from actually freezing in your veins   i have no\n",
      "ambition to lose my life on the post road between st  petersburgh and\n",
      "archangel \n",
      "\n",
      "i shall depart for the latter town in a fortnight or three weeks  and my\n",
      "intention is to hire a ship there  which can easily be done by paying the\n",
      "insurance for the owner  and to engage as many sailors as i think necessary\n",
      "among those who are accustomed to the whale fishing  i do not intend to\n",
      "sail until the month of june  and when shall i return  ah  dear sister  how\n",
      "can i answer this question  if i succeed  many  many months  perhaps years \n",
      "will pass before you and i may meet  if i fail  you will see me again soon \n",
      "or never \n",
      "\n",
      "farewell  my dear  excellent margaret  heaven shower down blessings on you \n",
      "and save me  that i may again and again testify my gratitude for all your\n",
      "love and kindness \n",
      "\n",
      "your affectionate brother \n",
      "\n",
      "r  walton\n"
     ]
    }
   ],
   "source": [
    "some_clean_text = some_text_lower_no_punct.replace(os.linesep, \" \")\n",
    "print(some_clean_text)"
   ]
  },
  {
   "cell_type": "markdown",
   "metadata": {},
   "source": [
    "### <font color='magenta'> Q2. How would you remove numbers from the text? </font>"
   ]
  },
  {
   "cell_type": "code",
   "execution_count": 16,
   "metadata": {},
   "outputs": [
    {
     "data": {
      "text/plain": [
       "'letter  \\n\\n to mrs  saville  england  \\n\\n\\nst  petersburgh  dec    th      \\n\\n\\nyou will rejoice to hear that no disaster has accompanied the\\ncommencement of an enterprise which you have regarded with such evil\\nforebodings   i arrived here yesterday  and my first task is to assure\\nmy dear sister of my welfare and increasing confidence in the success\\nof my undertaking \\n\\ni am already far north of london  and as i walk in the streets of\\npetersburgh  i feel a cold northern breeze play upon my cheeks  which\\nbraces my nerves and fills me with delight   do you understand this\\nfeeling   this breeze  which has travelled from the regions towards\\nwhich i am advancing  gives me a foretaste of those icy climes \\ninspirited by this wind of promise  my daydreams become more fervent\\nand vivid   i try in vain to be persuaded that the pole is the seat of\\nfrost and desolation  it ever presents itself to my imagination as the\\nregion of beauty and delight   there  margaret  the sun is for ever\\nvisible  its broad disk just skirting the horizon and diffusing a\\nperpetual splendour   there for with your leave  my sister  i will put\\nsome trust in preceding navigators there snow and frost are banished \\nand  sailing over a calm sea  we may be wafted to a land surpassing in\\nwonders and in beauty every region hitherto discovered on the habitable\\nglobe   its productions and features may be without example  as the\\nphenomena of the heavenly bodies undoubtedly are in those undiscovered\\nsolitudes   what may not be expected in a country of eternal light   i\\nmay there discover the wondrous power which attracts the needle and may\\nregulate a thousand celestial observations that require only this\\nvoyage to render their seeming eccentricities consistent for ever   i\\nshall satiate my ardent curiosity with the sight of a part of the world\\nnever before visited  and may tread a land never before imprinted by\\nthe foot of man  these are my enticements  and they are sufficient to\\nconquer all fear of danger or death and to induce me to commence this\\nlaborious voyage with the joy a child feels when he embarks in a little\\nboat  with his holiday mates  on an expedition of discovery up his\\nnative river  but supposing all these conjectures to be false  you\\ncannot contest the inestimable benefit which i shall confer on all\\nmankind  to the last generation  by discovering a passage near the pole\\nto those countries  to reach which at present so many months are\\nrequisite  or by ascertaining the secret of the magnet  which  if at\\nall possible  can only be effected by an undertaking such as mine \\n\\nthese reflections have dispelled the agitation with which i began my\\nletter  and i feel my heart glow with an enthusiasm which elevates me\\nto heaven  for nothing contributes so much to tranquillise the mind as\\na steady purpose a point on which the soul may fix its intellectual\\neye   this expedition has been the favourite dream of my early years  i\\nhave read with ardour the accounts of the various voyages which have\\nbeen made in the prospect of arriving at the north pacific ocean\\nthrough the seas which surround the pole   you may remember that a\\nhistory of all the voyages made for purposes of discovery composed the\\nwhole of our good uncle thomas  library   my education was neglected \\nyet i was passionately fond of reading   these volumes were my study\\nday and night  and my familiarity with them increased that regret which\\ni had felt  as a child  on learning that my father s dying injunction\\nhad forbidden my uncle to allow me to embark in a seafaring life \\n\\nthese visions faded when i perused  for the first time  those poets\\nwhose effusions entranced my soul and lifted it to heaven   i also\\nbecame a poet and for one year lived in a paradise of my own creation \\ni imagined that i also might obtain a niche in the temple where the\\nnames of homer and shakespeare are consecrated   you are well\\nacquainted with my failure and how heavily i bore the disappointment \\nbut just at that time i inherited the fortune of my cousin  and my\\nthoughts were turned into the channel of their earlier bent \\n\\nsix years have passed since i resolved on my present undertaking   i\\ncan  even now  remember the hour from which i dedicated myself to this\\ngreat enterprise   i commenced by inuring my body to hardship   i\\naccompanied the whale fishers on several expeditions to the north sea \\ni voluntarily endured cold  famine  thirst  and want of sleep  i often\\nworked harder than the common sailors during the day and devoted my\\nnights to the study of mathematics  the theory of medicine  and those\\nbranches of physical science from which a naval adventurer might derive\\nthe greatest practical advantage   twice i actually hired myself as an\\nunder mate in a greenland whaler  and acquitted myself to admiration  i\\nmust own i felt a little proud when my captain offered me the second\\ndignity in the vessel and entreated me to remain with the greatest\\nearnestness  so valuable did he consider my services \\n\\nand now  dear margaret  do i not deserve to accomplish some great purpose \\nmy life might have been passed in ease and luxury  but i preferred glory to\\nevery enticement that wealth placed in my path  oh  that some encouraging\\nvoice would answer in the affirmative  my courage and my resolution is\\nfirm  but my hopes fluctuate  and my spirits are often depressed  i am\\nabout to proceed on a long and difficult voyage  the emergencies of which\\nwill demand all my fortitude  i am required not only to raise the spirits\\nof others  but sometimes to sustain my own  when theirs are failing \\n\\nthis is the most favourable period for travelling in russia   they fly\\nquickly over the snow in their sledges  the motion is pleasant  and  in\\nmy opinion  far more agreeable than that of an english stagecoach   the\\ncold is not excessive  if you are wrapped in furs a dress which i have\\nalready adopted  for there is a great difference between walking the\\ndeck and remaining seated motionless for hours  when no exercise\\nprevents the blood from actually freezing in your veins   i have no\\nambition to lose my life on the post road between st  petersburgh and\\narchangel \\n\\ni shall depart for the latter town in a fortnight or three weeks  and my\\nintention is to hire a ship there  which can easily be done by paying the\\ninsurance for the owner  and to engage as many sailors as i think necessary\\namong those who are accustomed to the whale fishing  i do not intend to\\nsail until the month of june  and when shall i return  ah  dear sister  how\\ncan i answer this question  if i succeed  many  many months  perhaps years \\nwill pass before you and i may meet  if i fail  you will see me again soon \\nor never \\n\\nfarewell  my dear  excellent margaret  heaven shower down blessings on you \\nand save me  that i may again and again testify my gratitude for all your\\nlove and kindness \\n\\nyour affectionate brother \\n\\nr  walton'"
      ]
     },
     "execution_count": 16,
     "metadata": {},
     "output_type": "execute_result"
    }
   ],
   "source": [
    "re.sub(r'[0-9]', ' ', some_clean_text)"
   ]
  },
  {
   "cell_type": "code",
   "execution_count": 17,
   "metadata": {},
   "outputs": [
    {
     "data": {
      "text/plain": [
       "'letter  \\n\\n to mrs  saville  england  \\n\\n\\nst  petersburgh  dec    th      \\n\\n\\nyou will rejoice to hear that no disaster has accompanied the\\ncommencement of an enterprise which you have regarded with such evil\\nforebodings   i arrived here yesterday  and my first task is to assure\\nmy dear sister of my welfare and increasing confidence in the success\\nof my undertaking \\n\\ni am already far north of london  and as i walk in the streets of\\npetersburgh  i feel a cold northern breeze play upon my cheeks  which\\nbraces my nerves and fills me with delight   do you understand this\\nfeeling   this breeze  which has travelled from the regions towards\\nwhich i am advancing  gives me a foretaste of those icy climes \\ninspirited by this wind of promise  my daydreams become more fervent\\nand vivid   i try in vain to be persuaded that the pole is the seat of\\nfrost and desolation  it ever presents itself to my imagination as the\\nregion of beauty and delight   there  margaret  the sun is for ever\\nvisible  its broad disk just skirting the horizon and diffusing a\\nperpetual splendour   there for with your leave  my sister  i will put\\nsome trust in preceding navigators there snow and frost are banished \\nand  sailing over a calm sea  we may be wafted to a land surpassing in\\nwonders and in beauty every region hitherto discovered on the habitable\\nglobe   its productions and features may be without example  as the\\nphenomena of the heavenly bodies undoubtedly are in those undiscovered\\nsolitudes   what may not be expected in a country of eternal light   i\\nmay there discover the wondrous power which attracts the needle and may\\nregulate a thousand celestial observations that require only this\\nvoyage to render their seeming eccentricities consistent for ever   i\\nshall satiate my ardent curiosity with the sight of a part of the world\\nnever before visited  and may tread a land never before imprinted by\\nthe foot of man  these are my enticements  and they are sufficient to\\nconquer all fear of danger or death and to induce me to commence this\\nlaborious voyage with the joy a child feels when he embarks in a little\\nboat  with his holiday mates  on an expedition of discovery up his\\nnative river  but supposing all these conjectures to be false  you\\ncannot contest the inestimable benefit which i shall confer on all\\nmankind  to the last generation  by discovering a passage near the pole\\nto those countries  to reach which at present so many months are\\nrequisite  or by ascertaining the secret of the magnet  which  if at\\nall possible  can only be effected by an undertaking such as mine \\n\\nthese reflections have dispelled the agitation with which i began my\\nletter  and i feel my heart glow with an enthusiasm which elevates me\\nto heaven  for nothing contributes so much to tranquillise the mind as\\na steady purpose a point on which the soul may fix its intellectual\\neye   this expedition has been the favourite dream of my early years  i\\nhave read with ardour the accounts of the various voyages which have\\nbeen made in the prospect of arriving at the north pacific ocean\\nthrough the seas which surround the pole   you may remember that a\\nhistory of all the voyages made for purposes of discovery composed the\\nwhole of our good uncle thomas  library   my education was neglected \\nyet i was passionately fond of reading   these volumes were my study\\nday and night  and my familiarity with them increased that regret which\\ni had felt  as a child  on learning that my father s dying injunction\\nhad forbidden my uncle to allow me to embark in a seafaring life \\n\\nthese visions faded when i perused  for the first time  those poets\\nwhose effusions entranced my soul and lifted it to heaven   i also\\nbecame a poet and for one year lived in a paradise of my own creation \\ni imagined that i also might obtain a niche in the temple where the\\nnames of homer and shakespeare are consecrated   you are well\\nacquainted with my failure and how heavily i bore the disappointment \\nbut just at that time i inherited the fortune of my cousin  and my\\nthoughts were turned into the channel of their earlier bent \\n\\nsix years have passed since i resolved on my present undertaking   i\\ncan  even now  remember the hour from which i dedicated myself to this\\ngreat enterprise   i commenced by inuring my body to hardship   i\\naccompanied the whale fishers on several expeditions to the north sea \\ni voluntarily endured cold  famine  thirst  and want of sleep  i often\\nworked harder than the common sailors during the day and devoted my\\nnights to the study of mathematics  the theory of medicine  and those\\nbranches of physical science from which a naval adventurer might derive\\nthe greatest practical advantage   twice i actually hired myself as an\\nunder mate in a greenland whaler  and acquitted myself to admiration  i\\nmust own i felt a little proud when my captain offered me the second\\ndignity in the vessel and entreated me to remain with the greatest\\nearnestness  so valuable did he consider my services \\n\\nand now  dear margaret  do i not deserve to accomplish some great purpose \\nmy life might have been passed in ease and luxury  but i preferred glory to\\nevery enticement that wealth placed in my path  oh  that some encouraging\\nvoice would answer in the affirmative  my courage and my resolution is\\nfirm  but my hopes fluctuate  and my spirits are often depressed  i am\\nabout to proceed on a long and difficult voyage  the emergencies of which\\nwill demand all my fortitude  i am required not only to raise the spirits\\nof others  but sometimes to sustain my own  when theirs are failing \\n\\nthis is the most favourable period for travelling in russia   they fly\\nquickly over the snow in their sledges  the motion is pleasant  and  in\\nmy opinion  far more agreeable than that of an english stagecoach   the\\ncold is not excessive  if you are wrapped in furs a dress which i have\\nalready adopted  for there is a great difference between walking the\\ndeck and remaining seated motionless for hours  when no exercise\\nprevents the blood from actually freezing in your veins   i have no\\nambition to lose my life on the post road between st  petersburgh and\\narchangel \\n\\ni shall depart for the latter town in a fortnight or three weeks  and my\\nintention is to hire a ship there  which can easily be done by paying the\\ninsurance for the owner  and to engage as many sailors as i think necessary\\namong those who are accustomed to the whale fishing  i do not intend to\\nsail until the month of june  and when shall i return  ah  dear sister  how\\ncan i answer this question  if i succeed  many  many months  perhaps years \\nwill pass before you and i may meet  if i fail  you will see me again soon \\nor never \\n\\nfarewell  my dear  excellent margaret  heaven shower down blessings on you \\nand save me  that i may again and again testify my gratitude for all your\\nlove and kindness \\n\\nyour affectionate brother \\n\\nr  walton'"
      ]
     },
     "execution_count": 17,
     "metadata": {},
     "output_type": "execute_result"
    }
   ],
   "source": [
    "# re.sub(r'[\\d]', ' ', some_clean_text)"
   ]
  },
  {
   "cell_type": "markdown",
   "metadata": {},
   "source": [
    "## 0-3. Remove stop words"
   ]
  },
  {
   "cell_type": "markdown",
   "metadata": {},
   "source": [
    "- Stop words usually refers to the most common words in a language\n",
    "    - No single universial stopwords\n",
    "    - Often stopwords are removed to improve the performance of NLP models\n",
    "    - https://en.wikipedia.org/wiki/Stop_words\n",
    "    - https://en.wikipedia.org/wiki/Most_common_words_in_English"
   ]
  },
  {
   "cell_type": "markdown",
   "metadata": {},
   "source": [
    "#### Import the list of stop words from ```spaCy```"
   ]
  },
  {
   "cell_type": "code",
   "execution_count": 18,
   "metadata": {},
   "outputs": [],
   "source": [
    "from spacy.lang.en.stop_words import STOP_WORDS"
   ]
  },
  {
   "cell_type": "code",
   "execution_count": 19,
   "metadata": {},
   "outputs": [
    {
     "data": {
      "text/plain": [
       "array({'up', 'somewhere', 'off', 'them', 'all', 'besides', 'once', 'than', 'seeming', 'moreover', 'because', 'below', 'used', 'and', 'further', 'herself', 'was', 'what', 'else', 'seemed', 'regarding', 'except', 'back', 'neither', 're', 'her', 'a', 'rather', 'anyway', 'nothing', 'give', 'fifty', 'into', 'ten', 'throughout', 'mostly', 'go', 'will', 'therein', 'beforehand', 'it', 'afterwards', 'as', 'nevertheless', 'nowhere', 'six', 'one', 'to', 'has', 'either', 'put', 'own', 'becoming', 'had', 'above', 'therefore', 'thereby', 'see', 'itself', 'they', 'others', 'anything', 'your', 'various', 'or', 'fifteen', 'is', 'then', 'together', 'under', 'everything', 'seem', 'which', 'such', 'eleven', 'whole', 'each', 'yourselves', 'after', 'part', 'are', 'we', 'amount', 'often', 'just', 'anyone', 'his', 'on', 'at', 'whom', 'everyone', 'none', 'this', 'until', 'can', 'latter', 'latterly', 'should', 'although', 'still', 'may', 'say', 'the', 'ever', 'much', 'nine', 'some', 'least', 'who', 'around', 'someone', 'enough', 'herein', 'towards', 'whether', 'beside', 'ca', 'eight', 'most', 'move', 'nor', 'does', 'without', 'could', 'us', 'were', 'about', 'within', 'an', 'formerly', 'keep', 'by', 'how', 'those', 'sometimes', 'however', 'its', 'forty', 'he', 'behind', 'well', 'whoever', 'last', 'must', 'where', 'another', 'otherwise', 'whose', 'not', 'that', 'anyhow', 'serious', 'upon', 'unless', 'wherever', 'cannot', 'whatever', 'whence', 'beyond', 'due', 'side', 'whereupon', 'him', 'toward', 'same', 'thereupon', 'meanwhile', 'out', 'show', 'thru', 'very', 'yours', 'anywhere', 'hereupon', 'more', 'now', 'our', 'also', 'themselves', 'thus', 'hereby', 'if', 'did', 'front', 'be', 'elsewhere', 'first', 'so', 'through', 'via', 'whereby', 'against', 'every', 'mine', 'nobody', 'why', 'alone', 'among', 'yourself', 'perhaps', 'too', 'from', 'while', 'always', 'there', 'in', 'three', 'several', 'been', 'four', 'ours', 'two', 'their', 'call', 'himself', 'onto', 'becomes', 'even', 'yet', 'only', 'when', 'during', 'become', 'whither', 'take', 'being', 'would', 'across', 'between', 'both', 'ourselves', 'hundred', 'using', 'whereafter', 'please', 'whereas', 'myself', 'whenever', 'former', 'i', 'twenty', 'thence', 'wherein', 'made', 'noone', 'get', 'name', 'sometime', 'she', 'became', 'doing', 'hereafter', 'next', 'third', 'my', 'over', 'these', 'twelve', 'thereafter', 'somehow', 'amongst', 'for', 'you', 'down', 'namely', 'top', 'almost', 'am', 'many', 'something', 'indeed', 'per', 'any', 'sixty', 'with', 'do', 'everywhere', 'hers', 'really', 'again', 'full', 'no', 'but', 'never', 'other', 'quite', 'along', 'before', 'since', 'though', 'few', 'have', 'here', 'less', 'already', 'hence', 'make', 'five', 'might', 'empty', 'seems', 'me', 'of', 'done', 'bottom'},\n",
       "      dtype=object)"
      ]
     },
     "execution_count": 19,
     "metadata": {},
     "output_type": "execute_result"
    }
   ],
   "source": [
    "np.array(STOP_WORDS)"
   ]
  },
  {
   "cell_type": "markdown",
   "metadata": {},
   "source": [
    "#### Goal: We are going to count the frequency of each word from the paragraph, to see which words can be used to represent the paragraph's content. "
   ]
  },
  {
   "cell_type": "markdown",
   "metadata": {},
   "source": [
    "#### What if we do not remove stopwords?"
   ]
  },
  {
   "cell_type": "code",
   "execution_count": 20,
   "metadata": {},
   "outputs": [],
   "source": [
    "from collections import Counter"
   ]
  },
  {
   "cell_type": "markdown",
   "metadata": {},
   "source": [
    "- Note that our paragraph is stored as a single string object..."
   ]
  },
  {
   "cell_type": "code",
   "execution_count": 21,
   "metadata": {},
   "outputs": [
    {
     "data": {
      "text/plain": [
       "'letter 1\\n\\n to mrs  saville  england  \\n\\n\\nst  petersburgh  dec  11th  17  \\n\\n\\nyou will rejoice to hear that no disaster has accompanied the\\ncommencement of an enterprise which you have regarded with such evil\\nforebodings   i arrived here yesterday  and my first task is to assure\\nmy dear sister of my welfare and increasing confidence in the success\\nof my undertaking \\n\\ni am already far north of london  and as i walk in the streets of\\npetersburgh  i feel a cold northern breeze play upon my cheeks  which\\nbraces my nerves and fills me with delight   do you understand this\\nfeeling   this breeze  which has travelled from the regions towards\\nwhich i am advancing  gives me a foretaste of those icy climes \\ninspirited by this wind of promise  my daydreams become more fervent\\nand vivid   i try in vain to be persuaded that the pole is the seat of\\nfrost and desolation  it ever presents itself to my imagination as the\\nregion of beauty and delight   there  margaret  the sun is for ever\\nvisible  its broad disk just skirting the horizon and diffusing a\\nperpetual splendour   there for with your leave  my sister  i will put\\nsome trust in preceding navigators there snow and frost are banished \\nand  sailing over a calm sea  we may be wafted to a land surpassing in\\nwonders and in beauty every region hitherto discovered on the habitable\\nglobe   its productions and features may be without example  as the\\nphenomena of the heavenly bodies undoubtedly are in those undiscovered\\nsolitudes   what may not be expected in a country of eternal light   i\\nmay there discover the wondrous power which attracts the needle and may\\nregulate a thousand celestial observations that require only this\\nvoyage to render their seeming eccentricities consistent for ever   i\\nshall satiate my ardent curiosity with the sight of a part of the world\\nnever before visited  and may tread a land never before imprinted by\\nthe foot of man  these are my enticements  and they are sufficient to\\nconquer all fear of danger or death and to induce me to commence this\\nlaborious voyage with the joy a child feels when he embarks in a little\\nboat  with his holiday mates  on an expedition of discovery up his\\nnative river  but supposing all these conjectures to be false  you\\ncannot contest the inestimable benefit which i shall confer on all\\nmankind  to the last generation  by discovering a passage near the pole\\nto those countries  to reach which at present so many months are\\nrequisite  or by ascertaining the secret of the magnet  which  if at\\nall possible  can only be effected by an undertaking such as mine \\n\\nthese reflections have dispelled the agitation with which i began my\\nletter  and i feel my heart glow with an enthusiasm which elevates me\\nto heaven  for nothing contributes so much to tranquillise the mind as\\na steady purpose a point on which the soul may fix its intellectual\\neye   this expedition has been the favourite dream of my early years  i\\nhave read with ardour the accounts of the various voyages which have\\nbeen made in the prospect of arriving at the north pacific ocean\\nthrough the seas which surround the pole   you may remember that a\\nhistory of all the voyages made for purposes of discovery composed the\\nwhole of our good uncle thomas  library   my education was neglected \\nyet i was passionately fond of reading   these volumes were my study\\nday and night  and my familiarity with them increased that regret which\\ni had felt  as a child  on learning that my father s dying injunction\\nhad forbidden my uncle to allow me to embark in a seafaring life \\n\\nthese visions faded when i perused  for the first time  those poets\\nwhose effusions entranced my soul and lifted it to heaven   i also\\nbecame a poet and for one year lived in a paradise of my own creation \\ni imagined that i also might obtain a niche in the temple where the\\nnames of homer and shakespeare are consecrated   you are well\\nacquainted with my failure and how heavily i bore the disappointment \\nbut just at that time i inherited the fortune of my cousin  and my\\nthoughts were turned into the channel of their earlier bent \\n\\nsix years have passed since i resolved on my present undertaking   i\\ncan  even now  remember the hour from which i dedicated myself to this\\ngreat enterprise   i commenced by inuring my body to hardship   i\\naccompanied the whale fishers on several expeditions to the north sea \\ni voluntarily endured cold  famine  thirst  and want of sleep  i often\\nworked harder than the common sailors during the day and devoted my\\nnights to the study of mathematics  the theory of medicine  and those\\nbranches of physical science from which a naval adventurer might derive\\nthe greatest practical advantage   twice i actually hired myself as an\\nunder mate in a greenland whaler  and acquitted myself to admiration  i\\nmust own i felt a little proud when my captain offered me the second\\ndignity in the vessel and entreated me to remain with the greatest\\nearnestness  so valuable did he consider my services \\n\\nand now  dear margaret  do i not deserve to accomplish some great purpose \\nmy life might have been passed in ease and luxury  but i preferred glory to\\nevery enticement that wealth placed in my path  oh  that some encouraging\\nvoice would answer in the affirmative  my courage and my resolution is\\nfirm  but my hopes fluctuate  and my spirits are often depressed  i am\\nabout to proceed on a long and difficult voyage  the emergencies of which\\nwill demand all my fortitude  i am required not only to raise the spirits\\nof others  but sometimes to sustain my own  when theirs are failing \\n\\nthis is the most favourable period for travelling in russia   they fly\\nquickly over the snow in their sledges  the motion is pleasant  and  in\\nmy opinion  far more agreeable than that of an english stagecoach   the\\ncold is not excessive  if you are wrapped in furs a dress which i have\\nalready adopted  for there is a great difference between walking the\\ndeck and remaining seated motionless for hours  when no exercise\\nprevents the blood from actually freezing in your veins   i have no\\nambition to lose my life on the post road between st  petersburgh and\\narchangel \\n\\ni shall depart for the latter town in a fortnight or three weeks  and my\\nintention is to hire a ship there  which can easily be done by paying the\\ninsurance for the owner  and to engage as many sailors as i think necessary\\namong those who are accustomed to the whale fishing  i do not intend to\\nsail until the month of june  and when shall i return  ah  dear sister  how\\ncan i answer this question  if i succeed  many  many months  perhaps years \\nwill pass before you and i may meet  if i fail  you will see me again soon \\nor never \\n\\nfarewell  my dear  excellent margaret  heaven shower down blessings on you \\nand save me  that i may again and again testify my gratitude for all your\\nlove and kindness \\n\\nyour affectionate brother \\n\\nr  walton'"
      ]
     },
     "execution_count": 21,
     "metadata": {},
     "output_type": "execute_result"
    }
   ],
   "source": [
    "some_clean_text"
   ]
  },
  {
   "cell_type": "markdown",
   "metadata": {},
   "source": [
    "- Split the paragraph into a list of words"
   ]
  },
  {
   "cell_type": "code",
   "execution_count": 22,
   "metadata": {},
   "outputs": [],
   "source": [
    "words = some_clean_text.split()"
   ]
  },
  {
   "cell_type": "code",
   "execution_count": 23,
   "metadata": {},
   "outputs": [
    {
     "data": {
      "text/plain": [
       "['letter',\n",
       " '1',\n",
       " 'to',\n",
       " 'mrs',\n",
       " 'saville',\n",
       " 'england',\n",
       " 'st',\n",
       " 'petersburgh',\n",
       " 'dec',\n",
       " '11th']"
      ]
     },
     "execution_count": 23,
     "metadata": {},
     "output_type": "execute_result"
    }
   ],
   "source": [
    "words[:10]"
   ]
  },
  {
   "cell_type": "markdown",
   "metadata": {},
   "source": [
    "- Count the words from the list\n",
    "- Words that can occur in any kind of paragraphs...?"
   ]
  },
  {
   "cell_type": "code",
   "execution_count": 24,
   "metadata": {},
   "outputs": [
    {
     "data": {
      "text/plain": [
       "[('the', 67),\n",
       " ('i', 46),\n",
       " ('and', 44),\n",
       " ('my', 42),\n",
       " ('of', 36),\n",
       " ('to', 35),\n",
       " ('a', 28),\n",
       " ('in', 24),\n",
       " ('which', 19),\n",
       " ('for', 13)]"
      ]
     },
     "execution_count": 24,
     "metadata": {},
     "output_type": "execute_result"
    }
   ],
   "source": [
    "Counter(words).most_common(10)"
   ]
  },
  {
   "cell_type": "code",
   "execution_count": 25,
   "metadata": {},
   "outputs": [
    {
     "data": {
      "image/png": "[encoded data removed]",
      "text/plain": [
       "<Figure size 3240x720 with 1 Axes>"
      ]
     },
     "metadata": {},
     "output_type": "display_data"
    }
   ],
   "source": [
    "plt.figure(figsize=(45,10))\n",
    "words = words[:100]\n",
    "sns.countplot(words, order=pd.Series(words).value_counts().index)\n",
    "# sns.countplot(words_nostop, order=[counted[0] for counted in Counter(words_nostop).most_common()])\n",
    "plt.xticks(rotation=90)\n",
    "plt.show()"
   ]
  },
  {
   "cell_type": "markdown",
   "metadata": {},
   "source": [
    "(double click the plot to enlarge)"
   ]
  },
  {
   "cell_type": "markdown",
   "metadata": {},
   "source": [
    "#### When we removed stopwords:"
   ]
  },
  {
   "cell_type": "code",
   "execution_count": 26,
   "metadata": {},
   "outputs": [],
   "source": [
    "# split sentence into words\n",
    "words_nostop = list()\n",
    "for word in words:\n",
    "    if word not in STOP_WORDS:\n",
    "        words_nostop.append(word)\n",
    "# words_nostop = [word for word in words if word not in STOP_WORDS]"
   ]
  },
  {
   "cell_type": "markdown",
   "metadata": {},
   "source": [
    "- More comprehensible, and unique list or words!"
   ]
  },
  {
   "cell_type": "code",
   "execution_count": 27,
   "metadata": {},
   "outputs": [
    {
     "data": {
      "text/plain": [
       "[('petersburgh', 2),\n",
       " ('letter', 1),\n",
       " ('1', 1),\n",
       " ('mrs', 1),\n",
       " ('saville', 1),\n",
       " ('england', 1),\n",
       " ('st', 1),\n",
       " ('dec', 1),\n",
       " ('11th', 1),\n",
       " ('17', 1)]"
      ]
     },
     "execution_count": 27,
     "metadata": {},
     "output_type": "execute_result"
    }
   ],
   "source": [
    "Counter(words_nostop).most_common(10)"
   ]
  },
  {
   "cell_type": "code",
   "execution_count": 48,
   "metadata": {},
   "outputs": [
    {
     "data": {
      "image/png": "[encoded data removed]",
      "text/plain": [
       "<Figure size 3240x720 with 1 Axes>"
      ]
     },
     "metadata": {},
     "output_type": "display_data"
    }
   ],
   "source": [
    "plt.figure(figsize=(45,10))\n",
    "words_nostop = words_nostop[:100]\n",
    "sns.countplot(words_nostop, order=pd.Series(words_nostop).value_counts().index)\n",
    "# sns.countplot(words_nostop, order=[counted[0] for counted in Counter(words_nostop).most_common()])\n",
    "plt.xticks(rotation=90)\n",
    "plt.show()"
   ]
  },
  {
   "cell_type": "markdown",
   "metadata": {},
   "source": [
    "(double click the plot to enlarge)"
   ]
  },
  {
   "cell_type": "markdown",
   "metadata": {},
   "source": [
    "### <font color='magenta'> Q3. Based on the word frequency results, what was the letter about? </font>"
   ]
  },
  {
   "cell_type": "markdown",
   "metadata": {},
   "source": [
    "We can deduce the letter is about Petersburgh because it appears more than the other words after removing stop words."
   ]
  },
  {
   "cell_type": "markdown",
   "metadata": {},
   "source": [
    "# 1. Extracting linguistic features from spaCy"
   ]
  },
  {
   "cell_type": "markdown",
   "metadata": {},
   "source": [
    "## 1-1. Tokenize\n",
    "- Token: a semantic unit for analysis\n",
    "    - (Loosely) equal term for word\n",
    "        - ```sent_low_pnct.split()```\n",
    "    - Tricky cases\n",
    "        - aren't $\\rightarrow$ ?\n",
    "        - O'Neil $\\rightarrow$ ?\n",
    "- In ```spaCy```:\n",
    "    - Many token types, like word, puntuation symbol, whitespace, etc."
   ]
  },
  {
   "cell_type": "markdown",
   "metadata": {},
   "source": [
    "### Let's disect the sentence!\n",
    "\n",
    "- initiating the ```spaCy``` object "
   ]
  },
  {
   "cell_type": "code",
   "execution_count": 6,
   "metadata": {},
   "outputs": [],
   "source": [
    "# examples partially taken from https://nlpforhackers.io/complete-guide-to-spacy/\n",
    "import spacy\n",
    "nlp = spacy.load(r'C:\\Users\\jodiy\\Anaconda3\\lib\\site-packages\\en_core_web_sm\\en_core_web_sm-2.0.0')"
   ]
  },
  {
   "cell_type": "markdown",
   "metadata": {},
   "source": [
    "- Our sentence: \"Hello World!\"\n",
    "    - Pass the sentence string to the ```spaCy``` object ```nlp```"
   ]
  },
  {
   "cell_type": "code",
   "execution_count": 2,
   "metadata": {},
   "outputs": [
    {
     "ename": "NameError",
     "evalue": "name 'nlp' is not defined",
     "output_type": "error",
     "traceback": [
      "\u001b[1;31m---------------------------------------------------------------------------\u001b[0m",
      "\u001b[1;31mNameError\u001b[0m                                 Traceback (most recent call last)",
      "\u001b[1;32m<ipython-input-2-8900b85be267>\u001b[0m in \u001b[0;36m<module>\u001b[1;34m()\u001b[0m\n\u001b[1;32m----> 1\u001b[1;33m \u001b[0mdoc\u001b[0m \u001b[1;33m=\u001b[0m \u001b[0mnlp\u001b[0m\u001b[1;33m(\u001b[0m\u001b[1;34m\"Hello World!\"\u001b[0m\u001b[1;33m)\u001b[0m\u001b[1;33m\u001b[0m\u001b[0m\n\u001b[0m",
      "\u001b[1;31mNameError\u001b[0m: name 'nlp' is not defined"
     ]
    }
   ],
   "source": [
    "doc = nlp(\"Hello World!\")"
   ]
  },
  {
   "cell_type": "markdown",
   "metadata": {},
   "source": [
    "- The sentence is considered as a short document."
   ]
  },
  {
   "cell_type": "code",
   "execution_count": 31,
   "metadata": {},
   "outputs": [
    {
     "name": "stdout",
     "output_type": "stream",
     "text": [
      "<class 'spacy.tokens.doc.Doc'> Hello World!\n"
     ]
    }
   ],
   "source": [
    "print(type(doc), doc)"
   ]
  },
  {
   "cell_type": "markdown",
   "metadata": {},
   "source": [
    "- As importing the sentence string above, ```spaCy``` split the sentence into tokens (tokenization!)"
   ]
  },
  {
   "cell_type": "code",
   "execution_count": 32,
   "metadata": {},
   "outputs": [
    {
     "name": "stdout",
     "output_type": "stream",
     "text": [
      "0 Hello\n",
      "1 World\n",
      "2 !\n"
     ]
    }
   ],
   "source": [
    "for i,token in enumerate(doc):\n",
    "    print(i, token)"
   ]
  },
  {
   "cell_type": "markdown",
   "metadata": {},
   "source": [
    "- With index information (location from the sentence) of each token"
   ]
  },
  {
   "cell_type": "markdown",
   "metadata": {},
   "source": [
    "| 0 | 1 | 2 | 3 | 4 | 5 | 6 | 7 | 8 | 9 | 10| 11|\n",
    "|---|---|---|---|---|---|---|---|---|---|---|---|\n",
    "| H | e | l | l | o | _ | W | o | r | l | d | ! |"
   ]
  },
  {
   "cell_type": "code",
   "execution_count": 33,
   "metadata": {},
   "outputs": [
    {
     "name": "stdout",
     "output_type": "stream",
     "text": [
      "0 Hello 0\n",
      "1 World 6\n",
      "2 ! 11\n"
     ]
    }
   ],
   "source": [
    "for i, token in enumerate(doc):\n",
    "    print(i, token.text, token.idx) \n"
   ]
  },
  {
   "cell_type": "markdown",
   "metadata": {},
   "source": [
    "- And many more!\n",
    "    - https://spacy.io/api/token#attributes"
   ]
  },
  {
   "cell_type": "code",
   "execution_count": 5,
   "metadata": {},
   "outputs": [
    {
     "ename": "NameError",
     "evalue": "name 'nlp' is not defined",
     "output_type": "error",
     "traceback": [
      "\u001b[1;31m---------------------------------------------------------------------------\u001b[0m",
      "\u001b[1;31mNameError\u001b[0m                                 Traceback (most recent call last)",
      "\u001b[1;32m<ipython-input-5-5d74a6c3182a>\u001b[0m in \u001b[0;36m<module>\u001b[1;34m()\u001b[0m\n\u001b[1;32m----> 1\u001b[1;33m \u001b[0mdoc\u001b[0m \u001b[1;33m=\u001b[0m \u001b[0mnlp\u001b[0m\u001b[1;33m(\u001b[0m\u001b[1;34m\"What are you planning to do during the study break?\"\u001b[0m\u001b[1;33m)\u001b[0m\u001b[1;33m\u001b[0m\u001b[0m\n\u001b[0m\u001b[0;32m      2\u001b[0m \u001b[1;33m\u001b[0m\u001b[0m\n\u001b[0;32m      3\u001b[0m \u001b[0mprint\u001b[0m\u001b[1;33m(\u001b[0m\u001b[1;34m\"text \\t idx \\t lemma \\t lower \\t is_punct \\t is_space \\t shape \\t POS\"\u001b[0m\u001b[1;33m)\u001b[0m\u001b[1;33m\u001b[0m\u001b[0m\n\u001b[0;32m      4\u001b[0m \u001b[1;32mfor\u001b[0m \u001b[0mtoken\u001b[0m \u001b[1;32min\u001b[0m \u001b[0mdoc\u001b[0m\u001b[1;33m:\u001b[0m\u001b[1;33m\u001b[0m\u001b[0m\n\u001b[0;32m      5\u001b[0m     print(\"{0}\\t{1}\\t{2}\\t{3}\\t{4}\\t{5}\\t{6}\\t{7}\".format(\n",
      "\u001b[1;31mNameError\u001b[0m: name 'nlp' is not defined"
     ]
    }
   ],
   "source": [
    "doc = nlp(\"What are you planning to do during the study break?\")\n",
    "\n",
    "print(\"text \\t idx \\t lemma \\t lower \\t is_punct \\t is_space \\t shape \\t POS\")\n",
    "for token in doc:\n",
    "    print(\"{0}\\t{1}\\t{2}\\t{3}\\t{4}\\t{5}\\t{6}\\t{7}\".format(\n",
    "        token.text,\n",
    "        token.idx,\n",
    "        token.lemma_,\n",
    "        token.lower_,\n",
    "        token.is_punct,\n",
    "        token.is_space,\n",
    "        token.shape_,\n",
    "        token.pos_\n",
    "    ))\n"
   ]
  },
  {
   "cell_type": "markdown",
   "metadata": {},
   "source": [
    "## 1-2. Sentence detection"
   ]
  },
  {
   "cell_type": "markdown",
   "metadata": {},
   "source": [
    "- For the document with multiple sentences, we would need to separate between each sentences.\n",
    "- In ```spaCy```, the job is more convinient (and would cause less mistatkes) than using regular expression"
   ]
  },
  {
   "cell_type": "markdown",
   "metadata": {},
   "source": [
    "### <font color='magenta'> Q4. How would you separate sentences? What's your intuition? </font>"
   ]
  },
  {
   "cell_type": "markdown",
   "metadata": {},
   "source": [
    "You would split punctuations such as question marks, periods, exclamation points. The sentences would be merged together. "
   ]
  },
  {
   "cell_type": "markdown",
   "metadata": {},
   "source": [
    "- Our multiple sentence document: "
   ]
  },
  {
   "cell_type": "code",
   "execution_count": 37,
   "metadata": {},
   "outputs": [],
   "source": [
    "doc_multsent = \"\"\"Now she had got a start, and she went on and told me all about the good\n",
    "place.  She said all a body would have to do there was to go around all\n",
    "day long with a harp and sing, forever and ever.  So I didn't think\n",
    "much of it. But I never said so.  I asked her if she reckoned Tom Sawyer\n",
    "would go there, and she said not by a considerable sight.  I was glad\n",
    "about that, because I wanted him and me to be together.\"\"\""
   ]
  },
  {
   "cell_type": "markdown",
   "metadata": {},
   "source": [
    "- using regular expressions..."
   ]
  },
  {
   "cell_type": "code",
   "execution_count": 38,
   "metadata": {},
   "outputs": [
    {
     "name": "stdout",
     "output_type": "stream",
     "text": [
      "0 Now she had got a start, and she went on and told me all about the good\n",
      "place.\n",
      "1  She said all a body would have to do there was to go around all\n",
      "day long with a harp and sing, forever and ever.\n",
      "2  So I didn't think\n",
      "much of it.\n",
      "3 But I never said so.\n",
      "4  I asked her if she reckoned Tom Sawyer\n",
      "would go there, and she said not by a considerable sight.\n",
      "5  I was glad\n",
      "about that, because I wanted him and me to be together.\n"
     ]
    }
   ],
   "source": [
    "import re\n",
    "sentences = re.split(r\"(?<!\\w\\.\\w.)(?<![A-Z][a-z]\\.)(?<=\\.|\\?)\\s\", doc_multsent) # how would I remember this pattern without Google/StackOverflow?\n",
    "for i, sent in enumerate(sentences):\n",
    "    print(i, sent)"
   ]
  },
  {
   "cell_type": "markdown",
   "metadata": {},
   "source": [
    "- in ```spaCy```!"
   ]
  },
  {
   "cell_type": "code",
   "execution_count": 39,
   "metadata": {},
   "outputs": [],
   "source": [
    "# same document, but initiate as the spaCy object...\n",
    "doc = nlp(doc_multsent)"
   ]
  },
  {
   "cell_type": "markdown",
   "metadata": {},
   "source": [
    "- Sentences are stored as a generator object\n",
    "    - Instead of storing sentences as a list, each sentence is stored as a item in the generator object \n",
    "    - Iteratable (i.e., can be used in a for loop)\n",
    "    - More efficient memory use\n",
    "    - https://wiki.python.org/moin/Generators"
   ]
  },
  {
   "cell_type": "code",
   "execution_count": 40,
   "metadata": {},
   "outputs": [
    {
     "data": {
      "text/plain": [
       "<generator at 0x1e344ad8bf8>"
      ]
     },
     "execution_count": 40,
     "metadata": {},
     "output_type": "execute_result"
    }
   ],
   "source": [
    "doc.sents"
   ]
  },
  {
   "cell_type": "markdown",
   "metadata": {},
   "source": [
    "- Printing sentences with the index number"
   ]
  },
  {
   "cell_type": "code",
   "execution_count": 41,
   "metadata": {},
   "outputs": [
    {
     "name": "stdout",
     "output_type": "stream",
     "text": [
      "0 Now she had got a start, and she went on and told me all about the good\n",
      "place.  \n",
      "1 She said all a body would have to do there was to go around all\n",
      "day long with a harp and sing, forever and ever.  \n",
      "2 So I didn't think\n",
      "much of it.\n",
      "3 But I never said so.  \n",
      "4 I asked her if she reckoned Tom Sawyer\n",
      "would go there, and she said not by a considerable sight.  \n",
      "5 I was glad\n",
      "about that, because I wanted him and me to be together.\n"
     ]
    }
   ],
   "source": [
    "for i, sent in enumerate(doc.sents):\n",
    "    print(i, sent)"
   ]
  },
  {
   "cell_type": "markdown",
   "metadata": {},
   "source": [
    "### <font color='magenta'> Q5. Separate sentences in the letter from Frankenstein, and print sentences with the index number. </font>\n",
    "(remember, the letter is in the variable ```some_text```)"
   ]
  },
  {
   "cell_type": "code",
   "execution_count": 47,
   "metadata": {},
   "outputs": [
    {
     "name": "stdout",
     "output_type": "stream",
     "text": [
      "0 Letter 1\n",
      "\n",
      "_\n",
      "1 To Mrs. Saville, England.\n",
      "2 _\n",
      "\n",
      "\n",
      "St. Petersburgh, Dec. 11th, 17—.\n",
      "\n",
      "\n",
      "\n",
      "3 You will rejoice to hear that no disaster has accompanied the\n",
      "commencement of an enterprise which you have regarded with such evil\n",
      "forebodings.  \n",
      "4 I arrived here yesterday, and my first task is to assure\n",
      "my dear sister of my welfare and increasing confidence in the success\n",
      "of my undertaking.\n",
      "\n",
      "\n",
      "5 I am already far north of London, and as I walk in the streets of\n",
      "Petersburgh, I feel a cold northern breeze play upon my cheeks, which\n",
      "braces my nerves and fills me with delight.  \n",
      "6 Do you understand this\n",
      "feeling?  \n",
      "7 This breeze, which has travelled from the regions towards\n",
      "which I am advancing, gives me a foretaste of those icy climes.\n",
      "\n",
      "8 Inspirited by this wind of promise, my daydreams become more fervent\n",
      "and vivid.  \n",
      "9 I try in vain to be persuaded that the pole is the seat of\n",
      "frost and desolation; it ever presents itself to my imagination as the\n",
      "region of beauty and delight.  \n",
      "10 There, Margaret, the sun is for ever\n",
      "visible, its broad disk just skirting the horizon and diffusing a\n",
      "perpetual splendour.  \n",
      "11 There—for with your leave, my sister, I will put\n",
      "some trust in preceding navigators—there snow and frost are banished;\n",
      "and, sailing over a calm sea, we may be wafted to a land surpassing in\n",
      "wonders and in beauty every region hitherto discovered on the habitable\n",
      "globe.  \n",
      "12 Its productions and features may be without example, as the\n",
      "phenomena of the heavenly bodies undoubtedly are in those undiscovered\n",
      "solitudes.  \n",
      "13 What may not be expected in a country of eternal light?  \n",
      "14 I\n",
      "may there discover the wondrous power which attracts the needle and may\n",
      "regulate a thousand celestial observations that require only this\n",
      "voyage to render their seeming eccentricities consistent for ever.  \n",
      "15 I\n",
      "shall satiate my ardent curiosity with the sight of a part of the world\n",
      "never before visited, and may tread a land never before imprinted by\n",
      "the foot of man.\n",
      "16 These are my enticements, and they are sufficient to\n",
      "conquer all fear of danger or death and to induce me to commence this\n",
      "laborious voyage with the joy a child feels when he embarks in a little\n",
      "boat, with his holiday mates, on an expedition of discovery up his\n",
      "native river.\n",
      "17 But supposing all these conjectures to be false, you\n",
      "cannot contest the inestimable benefit which I shall confer on all\n",
      "mankind, to the last generation, by discovering a passage near the pole\n",
      "to those countries, to reach which at present so many months are\n",
      "requisite; or by ascertaining the secret of the magnet, which, if at\n",
      "all possible, can only be effected by an undertaking such as mine.\n",
      "\n",
      "\n",
      "18 These reflections have dispelled the agitation with which I began my\n",
      "letter, and I feel my heart glow with an enthusiasm which elevates me\n",
      "to heaven, for nothing contributes so much to tranquillise the mind as\n",
      "a steady purpose—a point on which the soul may fix its intellectual\n",
      "eye.  \n",
      "19 This expedition has been the favourite dream of my early years.\n",
      "20 I\n",
      "have read with ardour the accounts of the various voyages which have\n",
      "been made in the prospect of arriving at the North Pacific Ocean\n",
      "through the seas which surround the pole.  \n",
      "21 You may remember that a\n",
      "history of all the voyages made for purposes of discovery composed the\n",
      "whole of our good Uncle Thomas’ library.  \n",
      "22 My education was neglected,\n",
      "yet I was passionately fond of reading.  \n",
      "23 These volumes were my study\n",
      "day and night, and my familiarity with them increased that regret which\n",
      "I had felt, as a child, on learning that my father’s dying injunction\n",
      "had forbidden my uncle to allow me to embark in a seafaring life.\n",
      "\n",
      "\n",
      "24 These visions faded when I perused, for the first time, those poets\n",
      "whose effusions entranced my soul and lifted it to heaven.  \n",
      "25 I also\n",
      "became a poet and for one year lived in a paradise of my own creation;\n",
      "I imagined that I also might obtain a niche in the temple where the\n",
      "names of Homer and Shakespeare are consecrated.  \n",
      "26 You are well\n",
      "acquainted with my failure and how heavily I bore the disappointment.\n",
      "\n",
      "27 But just at that time I inherited the fortune of my cousin, and my\n",
      "thoughts were turned into the channel of their earlier bent.\n",
      "\n",
      "\n",
      "28 Six years have passed since I resolved on my present undertaking.  \n",
      "29 I\n",
      "can, even now, remember the hour from which I dedicated myself to this\n",
      "great enterprise.  \n",
      "30 I commenced by inuring my body to hardship.  \n",
      "31 I\n",
      "accompanied the whale-fishers on several expeditions to the North Sea;\n",
      "I voluntarily endured cold, famine, thirst, and want of sleep; I often\n",
      "worked harder than the common sailors during the day and devoted my\n",
      "nights to the study of mathematics, the theory of medicine, and those\n",
      "branches of physical science from which a naval adventurer might derive\n",
      "the greatest practical advantage.  \n",
      "32 Twice I actually hired myself as an\n",
      "under-mate in a Greenland whaler, and acquitted myself to admiration.\n",
      "33 I\n",
      "must own I felt a little proud when my captain offered me the second\n",
      "dignity in the vessel and entreated me to remain with the greatest\n",
      "earnestness, so valuable did he consider my services.\n",
      "\n",
      "\n",
      "34 And now, dear Margaret, do I not deserve to accomplish some great purpose?\n",
      "\n",
      "35 My life might have been passed in ease and luxury, but I preferred glory to\n",
      "every enticement that wealth placed in my path.\n",
      "36 Oh, that some encouraging\n",
      "voice would answer in the affirmative!\n",
      "37 My courage and my resolution is\n",
      "firm; but my hopes fluctuate, and my spirits are often depressed.\n",
      "38 I am\n",
      "about to proceed on a long and difficult voyage, the emergencies of which\n",
      "will demand all my fortitude: I am required not only to raise the spirits\n",
      "of others, but sometimes to sustain my own, when theirs are failing.\n",
      "\n",
      "\n",
      "39 This is the most favourable period for travelling in Russia.  \n",
      "40 They fly\n",
      "quickly over the snow in their sledges; the motion is pleasant, and, in\n",
      "my opinion, far more agreeable than that of an English stagecoach.  \n",
      "41 The\n",
      "cold is not excessive, if you are wrapped in furs—a dress which I have\n",
      "already adopted, for there is a great difference between walking the\n",
      "deck and remaining seated motionless for hours, when no exercise\n",
      "prevents the blood from actually freezing in your veins.  \n",
      "42 I have no\n",
      "ambition to lose my life on the post-road between St. Petersburgh and\n",
      "Archangel.\n",
      "\n",
      "\n",
      "43 I shall depart for the latter town in a fortnight or three weeks; and my\n",
      "intention is to hire a ship there, which can easily be done by paying the\n",
      "insurance for the owner, and to engage as many sailors as I think necessary\n",
      "among those who are accustomed to the whale-fishing.\n",
      "44 I do not intend to\n",
      "sail until the month of June; and when shall I return?\n",
      "45 Ah, dear sister, how\n",
      "can I answer this question?\n",
      "46 If I succeed, many, many months, perhaps years,\n",
      "will pass before you and I may meet.\n",
      "47 If I fail, you will see me again soon,\n",
      "or never.\n",
      "\n",
      "\n",
      "48 Farewell, my dear, excellent Margaret.\n",
      "49 Heaven shower down blessings on you,\n",
      "and save me, that I may again and again testify my gratitude for all your\n",
      "love and kindness.\n",
      "\n",
      "\n",
      "50 Your affectionate brother,\n",
      "\n",
      "R. Walton\n"
     ]
    }
   ],
   "source": [
    "f = nlp(some_text)\n",
    "for i, sent in enumerate(f.sents):\n",
    "    print(i,sent)"
   ]
  },
  {
   "cell_type": "markdown",
   "metadata": {},
   "source": [
    "## 1-3. POS tagging"
   ]
  },
  {
   "cell_type": "markdown",
   "metadata": {},
   "source": [
    "- I want to find words with particular part-of-speech!\n",
    "- Different part-of-speech words carry different information\n",
    "    - e.g., noun (subject), verb (action term), adjective (quality of the object) \n",
    "- https://spacy.io/api/annotation#pos-tagging"
   ]
  },
  {
   "cell_type": "markdown",
   "metadata": {},
   "source": [
    "- Yelp review!"
   ]
  },
  {
   "cell_type": "code",
   "execution_count": 7,
   "metadata": {},
   "outputs": [],
   "source": [
    "# from https://www.yelp.com/biz/ajishin-novi?hrid=juA4Zn2TX7845vNFn4syBQ&utm_campaign=www_review_share_popup&utm_medium=copy_link&utm_source=(direct)\n",
    "doc = nlp(\"\"\"One of the best Japanese restaurants in Novi. Simple food, great taste, amazingly price. I visit this place a least twice month.\"\"\")"
   ]
  },
  {
   "cell_type": "markdown",
   "metadata": {},
   "source": [
    "###  What can you infer from this review? \n",
    "- What type of the restaurant?\n",
    "- Location?\n",
    "- What did the reviewer liked about?\n",
    "- How often did the person visit the place?\n",
    "- Any other information?"
   ]
  },
  {
   "cell_type": "markdown",
   "metadata": {},
   "source": [
    "- multiple sentences exist in a document"
   ]
  },
  {
   "cell_type": "code",
   "execution_count": 8,
   "metadata": {},
   "outputs": [
    {
     "name": "stdout",
     "output_type": "stream",
     "text": [
      "0 One of the best Japanese restaurants in Novi.\n",
      "1 Simple food, great taste, amazingly price.\n",
      "2 I visit this place a least twice month.\n"
     ]
    }
   ],
   "source": [
    "for i, sent in enumerate(doc.sents):\n",
    "    print(i, sent)"
   ]
  },
  {
   "cell_type": "markdown",
   "metadata": {},
   "source": [
    "- Question: which words are adjectives (ADJ)?"
   ]
  },
  {
   "cell_type": "code",
   "execution_count": 9,
   "metadata": {},
   "outputs": [
    {
     "name": "stdout",
     "output_type": "stream",
     "text": [
      "__sentence__: 0\n",
      "_token_ \t _POS_\n",
      "One \t NUM\n",
      "of \t ADP\n",
      "the \t DET\n",
      "best \t ADJ\n",
      "Japanese \t ADJ\n",
      "restaurants \t NOUN\n",
      "in \t ADP\n",
      "Novi \t PROPN\n",
      ". \t PUNCT\n",
      "__sentence__: 1\n",
      "_token_ \t _POS_\n",
      "Simple \t ADJ\n",
      "food \t NOUN\n",
      ", \t PUNCT\n",
      "great \t ADJ\n",
      "taste \t NOUN\n",
      ", \t PUNCT\n",
      "amazingly \t ADV\n",
      "price \t NOUN\n",
      ". \t PUNCT\n",
      "__sentence__: 2\n",
      "_token_ \t _POS_\n",
      "I \t PRON\n",
      "visit \t VERB\n",
      "this \t DET\n",
      "place \t NOUN\n",
      "a \t DET\n",
      "least \t ADJ\n",
      "twice \t ADJ\n",
      "month \t NOUN\n",
      ". \t PUNCT\n"
     ]
    }
   ],
   "source": [
    "for i, sent in enumerate(doc.sents):\n",
    "    print(\"__sentence__:\", i)\n",
    "    print(\"_token_ \\t _POS_\")\n",
    "    for token in sent:\n",
    "        print(token.text, \"\\t\", token.pos_)"
   ]
  },
  {
   "cell_type": "markdown",
   "metadata": {},
   "source": [
    "- And dependency relationships also can be extracted as strings"
   ]
  },
  {
   "cell_type": "code",
   "execution_count": null,
   "metadata": {},
   "outputs": [],
   "source": [
    "for token in doc:\n",
    "    print('\"' + token.text + '\", ', token.pos_, list(token.ancestors), (token.dep_))"
   ]
  },
  {
   "cell_type": "markdown",
   "metadata": {},
   "source": [
    "```spaCy``` follows the ```ClearNLP``` annotations for dependency parsing\n",
    "- https://github.com/clir/clearnlp-guidelines/blob/master/md/specifications/dependency_labels.md"
   ]
  },
  {
   "cell_type": "markdown",
   "metadata": {},
   "source": [
    "# 2. Word embedding"
   ]
  },
  {
   "cell_type": "markdown",
   "metadata": {},
   "source": [
    "- So far, we seen how we can extract some interesting syntactic characteristics from text from using ```spacy```\n",
    "- It extracted the characteristics, but did not indicate what it means\n",
    "- Can machines understand semantic relationship between words?"
   ]
  },
  {
   "cell_type": "markdown",
   "metadata": {},
   "source": [
    "- Distributional semantics\n",
    "    - Representing semantic information of words in a geometric semantic space\n",
    "        - Different relationship between words: explained by geometric relationship between words \n",
    "        - e.g., Related words are located closer to each other; \n",
    "    - And it's often called as *word embedding*"
   ]
  },
  {
   "cell_type": "markdown",
   "metadata": {},
   "source": [
    "#### Word2Vec\n",
    "- Developed by [Mikolov et al., 2013](https://papers.nips.cc/paper/5021-distributed-representations-of-words-and-phrases-and-their-compositionality.pdf)\n",
    "- Represent the meaning of the words as a vector\n",
    "    - Vector: numeric array\n",
    "    - Output of a neural network model that predicts the next word\n",
    "- Surprisingly, many different semantic informations can be represented from word vectors of ```Word2Vec```\n",
    "- (More explanation in here: https://www.tensorflow.org/tutorials/representation/word2vec)"
   ]
  },
  {
   "cell_type": "markdown",
   "metadata": {},
   "source": [
    "<img src=\"https://www.tensorflow.org/images/softmax-nplm.png\" width=\"400\">"
   ]
  },
  {
   "cell_type": "markdown",
   "metadata": {},
   "source": [
    "![](https://www.tensorflow.org/images/linear-relationships.png)"
   ]
  },
  {
   "cell_type": "markdown",
   "metadata": {},
   "source": [
    "### Let's try with some example: words in a semantic space\n",
    "$\\rightarrow$ https://projector.tensorflow.org"
   ]
  },
  {
   "cell_type": "markdown",
   "metadata": {},
   "source": [
    "### <font color='red'> Q6. Any interesting findings from TensorFlow Projector page? </font>"
   ]
  },
  {
   "cell_type": "markdown",
   "metadata": {},
   "source": [
    "There are many similar root words. The TensorFlow Projector shows similarties with representation of graphical distances. "
   ]
  },
  {
   "cell_type": "markdown",
   "metadata": {},
   "source": [
    "# WE MIGHT RUN OUT OF TIME, SO THIS IS AN APPROPRIATE PLACE TO STOP"
   ]
  },
  {
   "cell_type": "markdown",
   "metadata": {},
   "source": [
    "## OK. Let's try some more details in our local machines!\n",
    "- Download the [pretrained model](https://drive.google.com/open?id=10GXpuviDJVa-k8ZmiYX3BVABNDRaA6tg)\n",
    "- We are using [gensim](https://radimrehurek.com/gensim/) package this time"
   ]
  },
  {
   "cell_type": "code",
   "execution_count": null,
   "metadata": {},
   "outputs": [],
   "source": [
    "! conda install -y gensim"
   ]
  },
  {
   "cell_type": "code",
   "execution_count": null,
   "metadata": {},
   "outputs": [],
   "source": [
    "import gensim"
   ]
  },
  {
   "cell_type": "code",
   "execution_count": null,
   "metadata": {},
   "outputs": [],
   "source": [
    "# The following assumes you have downloaded the appropriate model\n",
    "# from https://github.com/eyaler/word2vec-slim\n",
    "# and you can load it with the following command:\n",
    "w2v_mod = gensim.models.KeyedVectors.load_word2vec_format(\"data/GoogleNews-vectors-negative300-SLIM.bin\", binary=True)"
   ]
  },
  {
   "cell_type": "markdown",
   "metadata": {},
   "source": [
    "## 2-1. Calculating similarity between words"
   ]
  },
  {
   "cell_type": "markdown",
   "metadata": {},
   "source": [
    "- Q: What's similarity between *school* and *student*?"
   ]
  },
  {
   "cell_type": "markdown",
   "metadata": {},
   "source": [
    "- the word vector for *school* looks like this:"
   ]
  },
  {
   "cell_type": "code",
   "execution_count": null,
   "metadata": {},
   "outputs": [],
   "source": [
    "w2v_mod['school']"
   ]
  },
  {
   "cell_type": "code",
   "execution_count": null,
   "metadata": {},
   "outputs": [],
   "source": [
    "len(w2v_mod['school'])"
   ]
  },
  {
   "cell_type": "markdown",
   "metadata": {},
   "source": [
    "- and the word vector for *student* looks like this:"
   ]
  },
  {
   "cell_type": "code",
   "execution_count": null,
   "metadata": {},
   "outputs": [],
   "source": [
    "w2v_mod['student']"
   ]
  },
  {
   "cell_type": "markdown",
   "metadata": {},
   "source": [
    "- the similarity between two word vectors is:"
   ]
  },
  {
   "cell_type": "code",
   "execution_count": null,
   "metadata": {},
   "outputs": [],
   "source": [
    "w2v_mod.similarity('school', 'student')"
   ]
  },
  {
   "cell_type": "markdown",
   "metadata": {},
   "source": [
    "### Methods for measuring similarity"
   ]
  },
  {
   "cell_type": "markdown",
   "metadata": {},
   "source": [
    "<table>\n",
    "<tr>\n",
    "    <td><img src=\"https://nickgrattan.files.wordpress.com/2014/06/screenhunter_76-jun-10-08-36.jpg\" width=\"400\"></td>\n",
    "    <td><img src=\"https://nickgrattan.files.wordpress.com/2014/06/screenhunter_77-jun-10-08-36.jpg\" width=\"400\"></td>\n",
    "    <td><img src=\"https://nickgrattan.files.wordpress.com/2014/06/screenhunter_77-jun-10-08-37.jpg\" width=\"400\"></td>\n",
    "</tr>\n",
    "</table>"
   ]
  },
  {
   "cell_type": "code",
   "execution_count": null,
   "metadata": {},
   "outputs": [],
   "source": [
    "# (image from http://blog.christianperone.com/2013/09/machine-learning-cosine-similarity-for-vector-space-models-part-iii/)"
   ]
  },
  {
   "cell_type": "markdown",
   "metadata": {},
   "source": [
    "![](http://blog.christianperone.com/wp-content/uploads/2013/09/cosinesimilarityfq1.png)"
   ]
  },
  {
   "cell_type": "markdown",
   "metadata": {},
   "source": [
    "- Cosine simiarity can go from -1 to 1\n",
    "- But usually, we deal with 0 to 1 scores for comparing words in ```Word2Vec```"
   ]
  },
  {
   "cell_type": "markdown",
   "metadata": {},
   "source": [
    "### Example: What's the cosine similarity between *school* and *tiger*? </font>\n",
    "- How would you interprete the results?"
   ]
  },
  {
   "cell_type": "markdown",
   "metadata": {},
   "source": [
    "(type in your response here)"
   ]
  },
  {
   "cell_type": "code",
   "execution_count": null,
   "metadata": {},
   "outputs": [],
   "source": [
    "# put your code here"
   ]
  },
  {
   "cell_type": "code",
   "execution_count": null,
   "metadata": {},
   "outputs": [],
   "source": [
    "w2v_mod.similarity('school', 'tiger')"
   ]
  },
  {
   "cell_type": "markdown",
   "metadata": {},
   "source": [
    "### Just for fun...\n",
    "Try some other words. Any other interesting findings? How would you interprete the results?"
   ]
  },
  {
   "cell_type": "code",
   "execution_count": null,
   "metadata": {},
   "outputs": [],
   "source": [
    "# put your code here"
   ]
  },
  {
   "cell_type": "code",
   "execution_count": null,
   "metadata": {},
   "outputs": [],
   "source": [
    "w2v_mod.similarity('queen', 'king')"
   ]
  },
  {
   "cell_type": "code",
   "execution_count": null,
   "metadata": {},
   "outputs": [],
   "source": [
    "w2v_mod.similarity('cat', 'dog')"
   ]
  },
  {
   "cell_type": "code",
   "execution_count": null,
   "metadata": {},
   "outputs": [],
   "source": [
    "w2v_mod.similarity('Python', 'Java')"
   ]
  },
  {
   "cell_type": "markdown",
   "metadata": {},
   "source": [
    "(type in your response here)"
   ]
  },
  {
   "cell_type": "markdown",
   "metadata": {},
   "source": [
    "## 2-2. Analogy from word vectors"
   ]
  },
  {
   "cell_type": "markdown",
   "metadata": {},
   "source": [
    "<img src=\"https://www.tensorflow.org/images/linear-relationships.png\" width=\"800\">"
   ]
  },
  {
   "cell_type": "markdown",
   "metadata": {},
   "source": [
    "#### Can we approximate the relationship between words by doing - and + operations?"
   ]
  },
  {
   "cell_type": "markdown",
   "metadata": {},
   "source": [
    "- $woman - man + king \\approx ?$\n",
    "- How this works?\n",
    "    - $woman:man \\approx x:king $\n",
    "    - $\\rightarrow woman - man \\approx x - king $\n",
    "    - $\\rightarrow woman - man + king \\approx x$\n",
    "    - List top-10 words ($x$) that can solve the equation!"
   ]
  },
  {
   "cell_type": "code",
   "execution_count": null,
   "metadata": {},
   "outputs": [],
   "source": [
    "w2v_mod.most_similar(positive=['woman', 'king'], negative=['man'])"
   ]
  },
  {
   "cell_type": "markdown",
   "metadata": {},
   "source": [
    "- $Spain - Germany + Berlin \\approx ?$\n",
    "    - $\\rightarrow Spain - Germany \\approx x -  Berlin $"
   ]
  },
  {
   "cell_type": "code",
   "execution_count": null,
   "metadata": {},
   "outputs": [],
   "source": [
    "w2v_mod.most_similar(positive=['Spain', 'Berlin'], negative=['Germany'])"
   ]
  },
  {
   "cell_type": "markdown",
   "metadata": {},
   "source": [
    "### Just for fun: Any other interesting examples? How would you interprete the results?"
   ]
  },
  {
   "cell_type": "code",
   "execution_count": null,
   "metadata": {},
   "outputs": [],
   "source": [
    "# put your code here"
   ]
  },
  {
   "cell_type": "code",
   "execution_count": null,
   "metadata": {},
   "outputs": [],
   "source": []
  }
 ],
 "metadata": {
  "kernelspec": {
   "display_name": "Python 3",
   "language": "python",
   "name": "python3"
  },
  "language_info": {
   "codemirror_mode": {
    "name": "ipython",
    "version": 3
   },
   "file_extension": ".py",
   "mimetype": "text/x-python",
   "name": "python",
   "nbconvert_exporter": "python",
   "pygments_lexer": "ipython3",
   "version": "3.6.5"
  },
  "toc-autonumbering": false,
  "toc-showcode": false,
  "toc-showmarkdowntxt": false,
  "toc-showtags": false
 },
 "nbformat": 4,
 "nbformat_minor": 2
}
