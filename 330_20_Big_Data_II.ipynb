{
 "cells": [
  {
   "cell_type": "markdown",
   "metadata": {},
   "source": [
    "# SI 330: Data Manipulation \n",
    "## 20 - Big Data II: Introduction to Elastic MapReduce and Spark\n",
    "\n",
    "### Dr. Chris Teplovs, School of Information, University of Michigan\n",
    "<small><a rel=\"license\" href=\"http://creativecommons.org/licenses/by-nc-sa/4.0/\"><img alt=\"Creative Commons License\" style=\"border-width:0\" src=\"https://i.creativecommons.org/l/by-nc-sa/4.0/88x31.png\" /></a>This work is licensed under a <a rel=\"license\" href=\"http://creativecommons.org/licenses/by-nc-sa/4.0/\">Creative Commons Attribution-NonCommercial-ShareAlike 4.0 International License</a>."
   ]
  },
  {
   "cell_type": "markdown",
   "metadata": {},
   "source": [
    "## Overview of today\n",
    "\n",
    "* start up EMR cluster\n",
    "* review notebook from last class\n",
    "* introduction to Spark\n",
    "* running a Jupyter notebook on Spark"
   ]
  },
  {
   "cell_type": "markdown",
   "metadata": {},
   "source": [
    "## Starting up an Elastic MapReduce cluster\n",
    "\n",
    "* log into your AWS Educate account\n",
    "* go to EMR\n",
    "* select \"Notebooks\"\n",
    "* select \"Create notebook\"\n",
    "  * give your notebook a name\n",
    "  * you can leave description blank\n",
    "  * select \"Create a cluster\"\n",
    "  * change instance to 1 m4.large\n",
    "  * click \"Create\"\n",
    "* NOTE: provisioning your cluster will take a while, so we're going to go over the slides now while that happens"
   ]
  },
  {
   "cell_type": "markdown",
   "metadata": {},
   "source": [
    "## [Introduction to Spark](assets/distcomp2.pdf) <-- link to slides"
   ]
  },
  {
   "cell_type": "markdown",
   "metadata": {},
   "source": [
    "### <FONT color=\"red\">NOTE: The following cells *cannot* be run on your local machine.  You must copy the contents (not the blocks) to your EMR notebook on AWS by hand using copy and paste.</FONT>"
   ]
  },
  {
   "cell_type": "markdown",
   "metadata": {},
   "source": [
    "First, let's load our regular expressions library (yup, again):"
   ]
  },
  {
   "cell_type": "code",
   "execution_count": 1,
   "metadata": {},
   "outputs": [],
   "source": [
    "import re"
   ]
  },
  {
   "cell_type": "markdown",
   "metadata": {},
   "source": [
    "Now let's load in a datafile that I've put in one of my S3 buckets into an RDD:"
   ]
  },
  {
   "cell_type": "code",
   "execution_count": 2,
   "metadata": {
    "scrolled": true
   },
   "outputs": [
    {
     "ename": "NameError",
     "evalue": "name 'sc' is not defined",
     "output_type": "error",
     "traceback": [
      "\u001b[1;31m---------------------------------------------------------------------------\u001b[0m",
      "\u001b[1;31mNameError\u001b[0m                                 Traceback (most recent call last)",
      "\u001b[1;32m<ipython-input-2-8bfad196416a>\u001b[0m in \u001b[0;36m<module>\u001b[1;34m()\u001b[0m\n\u001b[1;32m----> 1\u001b[1;33m \u001b[0minput_file\u001b[0m \u001b[1;33m=\u001b[0m \u001b[0msc\u001b[0m\u001b[1;33m.\u001b[0m\u001b[0mtextFile\u001b[0m\u001b[1;33m(\u001b[0m\u001b[1;34m's3://umsi-data-science/data/totc.txt'\u001b[0m\u001b[1;33m)\u001b[0m\u001b[1;33m\u001b[0m\u001b[0m\n\u001b[0m",
      "\u001b[1;31mNameError\u001b[0m: name 'sc' is not defined"
     ]
    }
   ],
   "source": [
    "input_file = sc.textFile('s3://umsi-data-science/data/totc.txt')"
   ]
  },
  {
   "cell_type": "markdown",
   "metadata": {},
   "source": [
    "We're going to be using the same regex over and over again, so it's best to \"compile\" it so that we can leverage a python optimization:"
   ]
  },
  {
   "cell_type": "code",
   "execution_count": 24,
   "metadata": {},
   "outputs": [
    {
     "data": {
      "application/vnd.jupyter.widget-view+json": {
       "model_id": "fb23e61dc6f14783a65b4026c3f65a2c",
       "version_major": 2,
       "version_minor": 0
      },
      "text/plain": [
       "VBox()"
      ]
     },
     "metadata": {},
     "output_type": "display_data"
    }
   ],
   "source": [
    "WORD_RE = re.compile(r\"\\b[\\w']+\\b\")"
   ]
  },
  {
   "cell_type": "code",
   "execution_count": 25,
   "metadata": {
    "scrolled": true
   },
   "outputs": [
    {
     "data": {
      "application/vnd.jupyter.widget-view+json": {
       "model_id": "dca9d1f1b83649298e05cb7681851444",
       "version_major": 2,
       "version_minor": 0
      },
      "text/plain": [
       "VBox()"
      ]
     },
     "metadata": {},
     "output_type": "display_data"
    },
    {
     "name": "stdout",
     "output_type": "stream",
     "text": [
      "[u'The Project Gutenberg EBook of A Tale of Two Cities, by Charles Dickens', u'']"
     ]
    }
   ],
   "source": [
    "input_file.take(2)"
   ]
  },
  {
   "cell_type": "markdown",
   "metadata": {},
   "source": [
    "The next block will do three things, which we'll talk about in class"
   ]
  },
  {
   "cell_type": "code",
   "execution_count": 1,
   "metadata": {},
   "outputs": [
    {
     "ename": "NameError",
     "evalue": "name 'input_file' is not defined",
     "output_type": "error",
     "traceback": [
      "\u001b[0;31m---------------------------------------------------------------------------\u001b[0m",
      "\u001b[0;31mNameError\u001b[0m                                 Traceback (most recent call last)",
      "\u001b[0;32m<ipython-input-1-b554398cdac9>\u001b[0m in \u001b[0;36m<module>\u001b[0;34m\u001b[0m\n\u001b[1;32m      1\u001b[0m \u001b[0;34m\u001b[0m\u001b[0m\n\u001b[0;32m----> 2\u001b[0;31m \u001b[0mword_count1\u001b[0m \u001b[0;34m=\u001b[0m \u001b[0minput_file\u001b[0m\u001b[0;34m.\u001b[0m\u001b[0mflatMap\u001b[0m\u001b[0;34m(\u001b[0m\u001b[0;32mlambda\u001b[0m \u001b[0mline\u001b[0m\u001b[0;34m:\u001b[0m \u001b[0mWORD_RE\u001b[0m\u001b[0;34m.\u001b[0m\u001b[0mfindall\u001b[0m\u001b[0;34m(\u001b[0m\u001b[0mline\u001b[0m\u001b[0;34m+\u001b[0m\u001b[0;34m''\u001b[0m\u001b[0;34m)\u001b[0m\u001b[0;34m)\u001b[0m\u001b[0;34m\u001b[0m\u001b[0;34m\u001b[0m\u001b[0m\n\u001b[0m\u001b[1;32m      3\u001b[0m \u001b[0mword_count2\u001b[0m \u001b[0;34m=\u001b[0m \u001b[0mword_count1\u001b[0m\u001b[0;34m.\u001b[0m\u001b[0mmap\u001b[0m\u001b[0;34m(\u001b[0m\u001b[0;32mlambda\u001b[0m \u001b[0mword\u001b[0m\u001b[0;34m:\u001b[0m \u001b[0;34m(\u001b[0m\u001b[0mword\u001b[0m\u001b[0;34m,\u001b[0m \u001b[0;36m1\u001b[0m\u001b[0;34m)\u001b[0m\u001b[0;34m)\u001b[0m\u001b[0;34m\u001b[0m\u001b[0;34m\u001b[0m\u001b[0m\n\u001b[1;32m      4\u001b[0m \u001b[0mword_count3\u001b[0m \u001b[0;34m=\u001b[0m \u001b[0mword_count2\u001b[0m\u001b[0;34m.\u001b[0m\u001b[0mreduceByKey\u001b[0m\u001b[0;34m(\u001b[0m\u001b[0;32mlambda\u001b[0m \u001b[0ma\u001b[0m\u001b[0;34m,\u001b[0m \u001b[0mb\u001b[0m\u001b[0;34m:\u001b[0m \u001b[0ma\u001b[0m \u001b[0;34m+\u001b[0m \u001b[0mb\u001b[0m\u001b[0;34m)\u001b[0m\u001b[0;34m\u001b[0m\u001b[0;34m\u001b[0m\u001b[0m\n",
      "\u001b[0;31mNameError\u001b[0m: name 'input_file' is not defined"
     ]
    }
   ],
   "source": [
    "word_count1 = input_file.flatMap(lambda line: WORD_RE.findall(line+''))\n",
    "word_count2 = word_count1.map(lambda word: (word, 1))\n",
    "word_count3 = word_count2.reduceByKey(lambda a, b: a + b)"
   ]
  },
  {
   "cell_type": "markdown",
   "metadata": {},
   "source": [
    "### <font color=\"magenta\">Q1: Explain what each of the above statements does.</font>"
   ]
  },
  {
   "cell_type": "markdown",
   "metadata": {},
   "source": [
    "The first statement takes the RDD and calls flatMap. FlatMap returns a flattened condensed version of two lists. Then it returns a tuple of the word and the number '1'. The last statements count the word and returns a tuple of the word and the count. "
   ]
  },
  {
   "cell_type": "markdown",
   "metadata": {},
   "source": [
    "Now let's sort the results by value in descending order and put the results in another RDD:"
   ]
  },
  {
   "cell_type": "code",
   "execution_count": 29,
   "metadata": {},
   "outputs": [
    {
     "data": {
      "application/vnd.jupyter.widget-view+json": {
       "model_id": "6fc817f0e6594a7e85a616b6596f54af",
       "version_major": 2,
       "version_minor": 0
      },
      "text/plain": [
       "VBox()"
      ]
     },
     "metadata": {},
     "output_type": "display_data"
    }
   ],
   "source": [
    "word_counts_sorted = word_count3.sortBy(lambda x: x[1], ascending =\n",
    "False)\n",
    "top100_sorted = sc.parallelize(word_counts_sorted.take(100))\n"
   ]
  },
  {
   "cell_type": "markdown",
   "metadata": {},
   "source": []
  },
  {
   "cell_type": "code",
   "execution_count": 30,
   "metadata": {
    "scrolled": true
   },
   "outputs": [
    {
     "data": {
      "application/vnd.jupyter.widget-view+json": {
       "model_id": "f0ebf636f63841899d053291aa5d924c",
       "version_major": 2,
       "version_minor": 0
      },
      "text/plain": [
       "VBox()"
      ]
     },
     "metadata": {},
     "output_type": "display_data"
    },
    {
     "name": "stdout",
     "output_type": "stream",
     "text": [
      "the \t7577\n",
      "and \t4921\n",
      "of \t4102\n",
      "to \t3601\n",
      "a \t2864\n",
      "in \t2540\n",
      "I \t1971\n",
      "his \t1939\n",
      "that \t1840\n",
      "was \t1764\n",
      "it \t1747\n",
      "he \t1458\n",
      "with \t1317\n",
      "had \t1296\n",
      "you \t1229\n",
      "as \t1058\n",
      "her \t1005\n",
      "at \t999\n",
      "him \t970\n",
      "for \t922\n",
      "on \t899\n",
      "not \t823\n",
      "is \t793\n",
      "be \t773\n",
      "have \t729\n",
      "s \t669\n",
      "said \t661\n",
      "were \t657\n",
      "The \t647\n",
      "Mr \t622\n",
      "by \t579\n",
      "my \t577\n",
      "so \t540\n",
      "this \t535\n",
      "all \t530\n",
      "me \t526\n",
      "from \t510\n",
      "but \t485\n",
      "they \t459\n",
      "no \t453\n",
      "there \t449\n",
      "out \t443\n",
      "been \t440\n",
      "or \t430\n",
      "which \t417\n",
      "He \t400\n",
      "them \t399\n",
      "one \t396\n",
      "Lorry \t369\n",
      "when \t365\n",
      "who \t356\n",
      "if \t355\n",
      "an \t340\n",
      "would \t337\n",
      "she \t337\n",
      "It \t334\n",
      "are \t319\n",
      "up \t318\n",
      "your \t317\n",
      "into \t316\n",
      "their \t311\n",
      "Defarge \t302\n",
      "man \t296\n",
      "upon \t284\n",
      "could \t279\n",
      "will \t275\n",
      "do \t271\n",
      "little \t260\n",
      "time \t260\n",
      "more \t260\n",
      "any \t251\n",
      "hand \t249\n",
      "You \t246\n",
      "what \t246\n",
      "down \t236\n",
      "know \t231\n",
      "t \t224\n",
      "before \t222\n",
      "himself \t222\n",
      "its \t220\n",
      "Doctor \t220\n",
      "am \t219\n",
      "than \t218\n",
      "again \t218\n",
      "night \t216\n",
      "Miss \t212\n",
      "some \t207\n",
      "like \t207\n",
      "very \t205\n",
      "day \t203\n",
      "then \t202\n",
      "now \t199\n",
      "two \t195\n",
      "looked \t194\n",
      "other \t192\n",
      "father \t189\n",
      "way \t187\n",
      "face \t187\n",
      "made \t183\n",
      "long \t182"
     ]
    }
   ],
   "source": [
    "top_100 = top100_sorted.collect()\n",
    "for word in top_100:\n",
    "    print word[0],'\\t',word[1]"
   ]
  },
  {
   "cell_type": "code",
   "execution_count": 33,
   "metadata": {
    "scrolled": true
   },
   "outputs": [
    {
     "data": {
      "application/vnd.jupyter.widget-view+json": {
       "model_id": "9b0090bda9fc4bcd9f7fbcfd37e28833",
       "version_major": 2,
       "version_minor": 0
      },
      "text/plain": [
       "VBox()"
      ]
     },
     "metadata": {},
     "output_type": "display_data"
    }
   ],
   "source": [
    "counts = input_file.flatMap(lambda line: WORD_RE.findall(line+'')) \\\n",
    "             .map(lambda word: (word, 1)) \\\n",
    "             .reduceByKey(lambda a, b: a + b) \\\n",
    "             .sortBy(lambda a: a[1],ascending=False)"
   ]
  },
  {
   "cell_type": "code",
   "execution_count": 34,
   "metadata": {},
   "outputs": [
    {
     "data": {
      "application/vnd.jupyter.widget-view+json": {
       "model_id": "bf4517142a4c4bc785ce10dd47545489",
       "version_major": 2,
       "version_minor": 0
      },
      "text/plain": [
       "VBox()"
      ]
     },
     "metadata": {},
     "output_type": "display_data"
    },
    {
     "name": "stdout",
     "output_type": "stream",
     "text": [
      "[(u'the', 7514), (u'and', 4745), (u'', 4378), (u'of', 4065), (u'to', 3458), (u'a', 2825), (u'in', 2447), (u'his', 1911), (u'was', 1673), (u'that', 1663)]"
     ]
    }
   ],
   "source": [
    "counts.take(10)"
   ]
  },
  {
   "cell_type": "code",
   "execution_count": 35,
   "metadata": {},
   "outputs": [
    {
     "data": {
      "application/vnd.jupyter.widget-view+json": {
       "model_id": "7b6b86209b944bc2adb3c9b051e3d79d",
       "version_major": 2,
       "version_minor": 0
      },
      "text/plain": [
       "VBox()"
      ]
     },
     "metadata": {},
     "output_type": "display_data"
    }
   ],
   "source": [
    "words = input_file.flatMap(lambda line: WORD_RE.findall(line))"
   ]
  },
  {
   "cell_type": "code",
   "execution_count": 36,
   "metadata": {},
   "outputs": [
    {
     "data": {
      "application/vnd.jupyter.widget-view+json": {
       "model_id": "40e8936c5d0940889eb7c8e56b16a7a9",
       "version_major": 2,
       "version_minor": 0
      },
      "text/plain": [
       "VBox()"
      ]
     },
     "metadata": {},
     "output_type": "display_data"
    }
   ],
   "source": [
    "counts = words.map(lambda word: (None,1)).reduceByKey(lambda a, b: a + b)"
   ]
  },
  {
   "cell_type": "code",
   "execution_count": 37,
   "metadata": {
    "scrolled": true
   },
   "outputs": [
    {
     "data": {
      "application/vnd.jupyter.widget-view+json": {
       "model_id": "32eb8f8e378041378aa3a03ea0c6ad39",
       "version_major": 2,
       "version_minor": 0
      },
      "text/plain": [
       "VBox()"
      ]
     },
     "metadata": {},
     "output_type": "display_data"
    },
    {
     "name": "stdout",
     "output_type": "stream",
     "text": [
      "[(None, 141608)]"
     ]
    }
   ],
   "source": [
    "counts.take(1)"
   ]
  },
  {
   "cell_type": "code",
   "execution_count": 38,
   "metadata": {},
   "outputs": [
    {
     "data": {
      "application/vnd.jupyter.widget-view+json": {
       "model_id": "34a992f0d5aa435b970cca8d5768b7e0",
       "version_major": 2,
       "version_minor": 0
      },
      "text/plain": [
       "VBox()"
      ]
     },
     "metadata": {},
     "output_type": "display_data"
    },
    {
     "name": "stdout",
     "output_type": "stream",
     "text": [
      "[(None, 141608)]"
     ]
    }
   ],
   "source": [
    "sorted = counts.sortBy(lambda a: a[1])\n",
    "counts.collect()"
   ]
  },
  {
   "cell_type": "code",
   "execution_count": 39,
   "metadata": {},
   "outputs": [
    {
     "data": {
      "application/vnd.jupyter.widget-view+json": {
       "model_id": "b7dd233f2fdb4fabbb78dd5576944517",
       "version_major": 2,
       "version_minor": 0
      },
      "text/plain": [
       "VBox()"
      ]
     },
     "metadata": {},
     "output_type": "display_data"
    },
    {
     "name": "stdout",
     "output_type": "stream",
     "text": [
      "<type 'collections.defaultdict'>"
     ]
    }
   ],
   "source": [
    "word_counts = input_file.flatMap(lambda line: WORD_RE.findall(line)).countByValue()\n",
    "type(word_counts)"
   ]
  },
  {
   "cell_type": "code",
   "execution_count": null,
   "metadata": {},
   "outputs": [],
   "source": [
    "word_counts"
   ]
  },
  {
   "cell_type": "code",
   "execution_count": null,
   "metadata": {},
   "outputs": [],
   "source": []
  }
 ],
 "metadata": {
  "kernelspec": {
   "display_name": "Python 3",
   "language": "python",
   "name": "python3"
  },
  "language_info": {
   "codemirror_mode": {
    "name": "ipython",
    "version": 3
   },
   "file_extension": ".py",
   "mimetype": "text/x-python",
   "name": "python",
   "nbconvert_exporter": "python",
   "pygments_lexer": "ipython3",
   "version": "3.6.5"
  }
 },
 "nbformat": 4,
 "nbformat_minor": 2
}
