{
 "cells": [
  {
   "cell_type": "markdown",
   "metadata": {},
   "source": [
    "# SI 330 - Homework 3: AWS, RDS, MySQL, and Visualization\n",
    "## Top-level goal:\n",
    "To explore the goodreads database that we created during the past few classes.\n",
    "\n",
    "**NOTE**: You will need to review your notebooks from the past few classes to complete this assignment."
   ]
  },
  {
   "cell_type": "markdown",
   "metadata": {},
   "source": [
    "Take a look at the first few entries in the ```books``` table.  Specifically, take a look at the ```authors``` field.  \n",
    "\n",
    "You'll notice that some entries contain multiple authors such as:\n",
    ">  'Anne Frank, Eleanor Roosevelt, B.M. Mooyaart-Doubleday'\n",
    "\n",
    "(that's from iloc[14])\n",
    "\n",
    "Note too that some non-ASCII characters in the author names are misformed.  That's my fault and can be ignored for the purposes of this assignment."
   ]
  },
  {
   "cell_type": "markdown",
   "metadata": {},
   "source": [
    "Your task is to \"break out\" those authors into a separate dataframe, then use either merge, join, or any other functionality from pandas to answer the following questions.  Please note that there are multiple ways to figure out the answers.  You can, of course, choose to do things in a \"pythonic\" way rather than a \"pandorable\" way, but it will be more difficult to get full points if you do so.\n",
    "\n",
    "You will also need to use some of the visualization techniques we learned when we covered matplotlib a few weeks ago."
   ]
  },
  {
   "cell_type": "code",
   "execution_count": 1,
   "metadata": {},
   "outputs": [],
   "source": [
    "import pymysql"
   ]
  },
  {
   "cell_type": "code",
   "execution_count": 19,
   "metadata": {},
   "outputs": [],
   "source": [
    "connection = pymysql.connect(host='', # remove this before submitting\n",
    "                             user='', # remove this before submitting\n",
    "                             password='', # remove this before submitting\n",
    "                             db='goodreads',\n",
    "                             charset='utf8mb4',\n",
    "                             cursorclass=pymysql.cursors.DictCursor)"
   ]
  },
  {
   "cell_type": "code",
   "execution_count": 3,
   "metadata": {},
   "outputs": [],
   "source": [
    "import pandas as pd"
   ]
  },
  {
   "cell_type": "code",
   "execution_count": 4,
   "metadata": {},
   "outputs": [],
   "source": [
    "df = pd.read_sql('SELECT * FROM books',con=connection)"
   ]
  },
  {
   "cell_type": "markdown",
   "metadata": {},
   "source": [
    "### Q1: How many unique authors are there?"
   ]
  },
  {
   "cell_type": "code",
   "execution_count": 5,
   "metadata": {},
   "outputs": [
    {
     "data": {
      "text/plain": [
       "5707"
      ]
     },
     "execution_count": 5,
     "metadata": {},
     "output_type": "execute_result"
    }
   ],
   "source": [
    "author = df['authors'].str.split(', ', expand = True).stack()\n",
    "author_count = author.nunique()\n",
    "author_count"
   ]
  },
  {
   "cell_type": "markdown",
   "metadata": {},
   "source": [
    "### Q2: Create a barchart that has the number of authors from 1 to n across the horizontal axis and the number of books having that number of authors as the vertical axis."
   ]
  },
  {
   "cell_type": "code",
   "execution_count": 6,
   "metadata": {},
   "outputs": [],
   "source": [
    "import matplotlib.pyplot as plt"
   ]
  },
  {
   "cell_type": "code",
   "execution_count": 7,
   "metadata": {},
   "outputs": [],
   "source": [
    "author = df['authors'].str.split(', ', expand = False)\n",
    "author_df = author.to_frame()\n",
    "author_df['count'] = author_df['authors'].apply(len)"
   ]
  },
  {
   "cell_type": "code",
   "execution_count": 87,
   "metadata": {},
   "outputs": [
    {
     "data": {
      "text/plain": [
       "<matplotlib.axes._subplots.AxesSubplot at 0x1b166cb2128>"
      ]
     },
     "execution_count": 87,
     "metadata": {},
     "output_type": "execute_result"
    },
    {
     "data": {
      "image/png": "[encoded data removed]",
      "text/plain": [
       "<Figure size 432x288 with 1 Axes>"
      ]
     },
     "metadata": {},
     "output_type": "display_data"
    }
   ],
   "source": [
    "author_number = author_df.groupby('count').size()\n",
    "author_number.plot(kind='bar')"
   ]
  },
  {
   "cell_type": "markdown",
   "metadata": {},
   "source": [
    "### Q3: How many books as J.K. Rowling co-authored with someone else?"
   ]
  },
  {
   "cell_type": "code",
   "execution_count": 8,
   "metadata": {},
   "outputs": [
    {
     "data": {
      "text/plain": [
       "(19, 23)"
      ]
     },
     "execution_count": 8,
     "metadata": {},
     "output_type": "execute_result"
    }
   ],
   "source": [
    "dataframe1 = pd.read_sql('SELECT * FROM books WHERE authors LIKE \"%J.K. Rowling%\"',con=connection)\n",
    "dataframe2 = dataframe1[dataframe1['authors'].apply(len)>12]\n",
    "dataframe2.shape"
   ]
  },
  {
   "cell_type": "markdown",
   "metadata": {},
   "source": [
    "J.K. Rowling co-authored 19 books"
   ]
  },
  {
   "cell_type": "markdown",
   "metadata": {},
   "source": [
    "### Q4: Who has co-authored books with J.K Rowling?"
   ]
  },
  {
   "cell_type": "code",
   "execution_count": 9,
   "metadata": {},
   "outputs": [
    {
     "data": {
      "text/plain": [
       "['Mary GrandPrÃ©',\n",
       " 'Rufus Beck',\n",
       " 'Robert Galbraith',\n",
       " 'John Tiffany',\n",
       " 'Jack Thorne',\n",
       " 'Newt Scamander',\n",
       " 'Albus Dumbledore',\n",
       " 'Kennilworthy Whisp',\n",
       " 'MinaLima',\n",
       " 'Joel Holland',\n",
       " 'Melissa Anelli']"
      ]
     },
     "execution_count": 9,
     "metadata": {},
     "output_type": "execute_result"
    }
   ],
   "source": [
    "list_author = dataframe1.authors.str.split(', ', expand = True).stack().unique()\n",
    "new_list = list()\n",
    "for x in list_author:\n",
    "    if(x!='J.K. Rowling'):\n",
    "        new_list.append(x)\n",
    "new_list"
   ]
  },
  {
   "cell_type": "markdown",
   "metadata": {},
   "source": [
    "### Q5: Which book has the largest number of authors?  How many authors?  Who are the authors?"
   ]
  },
  {
   "cell_type": "code",
   "execution_count": 12,
   "metadata": {},
   "outputs": [],
   "source": [
    "book = df.authors.str.split(', ', expand=True).dropna()\n",
    "most_authors = book[book[7].apply(len)>1].index\n",
    "# book.head()"
   ]
  },
  {
   "cell_type": "markdown",
   "metadata": {},
   "source": [
    "8 authors is the max amount of authors writing a book"
   ]
  },
  {
   "cell_type": "code",
   "execution_count": 11,
   "metadata": {},
   "outputs": [
    {
     "data": {
      "text/html": [
       "<div>\n",
       "<style scoped>\n",
       "    .dataframe tbody tr th:only-of-type {\n",
       "        vertical-align: middle;\n",
       "    }\n",
       "\n",
       "    .dataframe tbody tr th {\n",
       "        vertical-align: top;\n",
       "    }\n",
       "\n",
       "    .dataframe thead th {\n",
       "        text-align: right;\n",
       "    }\n",
       "</style>\n",
       "<table border=\"1\" class=\"dataframe\">\n",
       "  <thead>\n",
       "    <tr style=\"text-align: right;\">\n",
       "      <th></th>\n",
       "      <th>authors</th>\n",
       "      <th>original_title</th>\n",
       "    </tr>\n",
       "  </thead>\n",
       "  <tbody>\n",
       "    <tr>\n",
       "      <th>2936</th>\n",
       "      <td>Neil Gaiman, Shawn McManus, Colleen Doran, Bry...</td>\n",
       "      <td>The Sandman: A Game of You</td>\n",
       "    </tr>\n",
       "    <tr>\n",
       "      <th>3394</th>\n",
       "      <td>Neil Gaiman, Marc Hempel, Richard Case, D'Isra...</td>\n",
       "      <td>The Sandman: The Kindly Ones</td>\n",
       "    </tr>\n",
       "    <tr>\n",
       "      <th>4154</th>\n",
       "      <td>Jon Stewart, Rory Albanese, Kevin Bleyer, Rich...</td>\n",
       "      <td>Earth: A Visitor's Guide to the Human Race</td>\n",
       "    </tr>\n",
       "    <tr>\n",
       "      <th>4938</th>\n",
       "      <td>Franz Kafka, Nahum N. Glatzer, John Updike, Wi...</td>\n",
       "      <td>SÃ¤mtliche ErzÃ¤hlungen</td>\n",
       "    </tr>\n",
       "  </tbody>\n",
       "</table>\n",
       "</div>"
      ],
      "text/plain": [
       "                                                authors  \\\n",
       "2936  Neil Gaiman, Shawn McManus, Colleen Doran, Bry...   \n",
       "3394  Neil Gaiman, Marc Hempel, Richard Case, D'Isra...   \n",
       "4154  Jon Stewart, Rory Albanese, Kevin Bleyer, Rich...   \n",
       "4938  Franz Kafka, Nahum N. Glatzer, John Updike, Wi...   \n",
       "\n",
       "                                   original_title  \n",
       "2936                   The Sandman: A Game of You  \n",
       "3394                 The Sandman: The Kindly Ones  \n",
       "4154  Earth: A Visitor's Guide to the Human Race   \n",
       "4938                      SÃ¤mtliche ErzÃ¤hlungen  "
      ]
     },
     "execution_count": 11,
     "metadata": {},
     "output_type": "execute_result"
    }
   ],
   "source": [
    "df1 = df.loc[most_authors]\n",
    "df1[['authors', 'original_title']]"
   ]
  },
  {
   "cell_type": "markdown",
   "metadata": {},
   "source": [
    "### Q6: Which author's books have been tagged with the largest number of unique tags?"
   ]
  },
  {
   "cell_type": "code",
   "execution_count": 20,
   "metadata": {},
   "outputs": [],
   "source": [
    "df_tags = pd.read_sql(\"\"\"SELECT books.title, books.authors, tags.tag_name FROM books\n",
    "                        LEFT JOIN books_tags on books_tags.goodreads_book_id = books.goodreads_book_id\n",
    "                        LEFT JOIN tags on tags.tag_id = books_tags.tag_id\"\"\", con=connection)"
   ]
  },
  {
   "cell_type": "code",
   "execution_count": 15,
   "metadata": {},
   "outputs": [
    {
     "name": "stdout",
     "output_type": "stream",
     "text": [
      "400\n",
      "Selected Poems\n"
     ]
    }
   ],
   "source": [
    "author = {}\n",
    "for i, row in df_tags.iterrows():\n",
    "    if row.title not in author:\n",
    "        author[row.title] = [row.tag_name]\n",
    "    else:\n",
    "        author[row.title].append(row.tag_name)\n",
    "\n",
    "max_item=0\n",
    "max_name=''\n",
    "\n",
    "for x in author:\n",
    "    if len(author[x])>max_item:\n",
    "        max_item = len(author[x])\n",
    "        max_name = x\n",
    "print(max_item)\n",
    "print(max_name)"
   ]
  },
  {
   "cell_type": "code",
   "execution_count": 17,
   "metadata": {},
   "outputs": [
    {
     "data": {
      "text/html": [
       "<div>\n",
       "<style scoped>\n",
       "    .dataframe tbody tr th:only-of-type {\n",
       "        vertical-align: middle;\n",
       "    }\n",
       "\n",
       "    .dataframe tbody tr th {\n",
       "        vertical-align: top;\n",
       "    }\n",
       "\n",
       "    .dataframe thead th {\n",
       "        text-align: right;\n",
       "    }\n",
       "</style>\n",
       "<table border=\"1\" class=\"dataframe\">\n",
       "  <thead>\n",
       "    <tr style=\"text-align: right;\">\n",
       "      <th></th>\n",
       "      <th>title</th>\n",
       "      <th>authors</th>\n",
       "      <th>tag_name</th>\n",
       "    </tr>\n",
       "  </thead>\n",
       "  <tbody>\n",
       "    <tr>\n",
       "      <th>645362</th>\n",
       "      <td>Selected Poems</td>\n",
       "      <td>Emily Dickinson</td>\n",
       "      <td>to-read\\r</td>\n",
       "    </tr>\n",
       "  </tbody>\n",
       "</table>\n",
       "</div>"
      ],
      "text/plain": [
       "                 title          authors   tag_name\n",
       "645362  Selected Poems  Emily Dickinson  to-read\\r"
      ]
     },
     "execution_count": 17,
     "metadata": {},
     "output_type": "execute_result"
    }
   ],
   "source": [
    "df_tags.loc[df_tags['title'] == max_name].head(1)"
   ]
  }
 ],
 "metadata": {
  "kernelspec": {
   "display_name": "Python 3",
   "language": "python",
   "name": "python3"
  },
  "language_info": {
   "codemirror_mode": {
    "name": "ipython",
    "version": 3
   },
   "file_extension": ".py",
   "mimetype": "text/x-python",
   "name": "python",
   "nbconvert_exporter": "python",
   "pygments_lexer": "ipython3",
   "version": "3.6.5"
  }
 },
 "nbformat": 4,
 "nbformat_minor": 2
}
